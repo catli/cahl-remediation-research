{
 "cells": [
  {
   "cell_type": "code",
   "execution_count": 68,
   "metadata": {},
   "outputs": [],
   "source": [
    "import pandas as pd\n",
    "import scipy.stats as stats\n",
    "import numpy as np\n",
    "import matplotlib\n",
    "import matplotlib.pyplot as plt\n",
    "\n",
    "# For the stuckness summary by learner data \n",
    "# The current dataset being pulled is a subset who exhibited learning behavior \n",
    "# Out of the  total learners who worked on more than 1 exercise, \n",
    "# about 82% exhibited some signs of learning,\n",
    "# where an exercise had both correct and incorrect responses. Out of the 18%  remaining sessions,  \n",
    "# 15% mastered some exercises immediately and 12% never got unstuck out of some exercises. \n",
    "# Only 5% mastered all their exercises and 2% were stuck on all their exercises. \n",
    "\n",
    "stuck = pd.read_csv('~/cahl_output/summarize_stuckness.csv')\n"
   ]
  },
  {
   "cell_type": "code",
   "execution_count": 7,
   "metadata": {},
   "outputs": [
    {
     "data": {
      "text/html": [
       "<div>\n",
       "<style scoped>\n",
       "    .dataframe tbody tr th:only-of-type {\n",
       "        vertical-align: middle;\n",
       "    }\n",
       "\n",
       "    .dataframe tbody tr th {\n",
       "        vertical-align: top;\n",
       "    }\n",
       "\n",
       "    .dataframe thead th {\n",
       "        text-align: right;\n",
       "    }\n",
       "</style>\n",
       "<table border=\"1\" class=\"dataframe\">\n",
       "  <thead>\n",
       "    <tr style=\"text-align: right;\">\n",
       "      <th></th>\n",
       "      <th>sha_id</th>\n",
       "      <th>total_problems</th>\n",
       "      <th>never_stuck_problems</th>\n",
       "      <th>never_unstuck_problems</th>\n",
       "      <th>unstuck_problems</th>\n",
       "      <th>unstuck_same_exercise</th>\n",
       "      <th>unstuck_remediation_problems</th>\n",
       "      <th>unstuck_correct_remdiation_problems</th>\n",
       "      <th>unstuck_prereq_avail_problems</th>\n",
       "      <th>unstuck_is_prereq_match_problems</th>\n",
       "    </tr>\n",
       "  </thead>\n",
       "  <tbody>\n",
       "    <tr>\n",
       "      <th>0</th>\n",
       "      <td>sha_id</td>\n",
       "      <td>0</td>\n",
       "      <td>0</td>\n",
       "      <td>0</td>\n",
       "      <td>0</td>\n",
       "      <td>0</td>\n",
       "      <td>0</td>\n",
       "      <td>0</td>\n",
       "      <td>0</td>\n",
       "      <td>0</td>\n",
       "    </tr>\n",
       "    <tr>\n",
       "      <th>1</th>\n",
       "      <td>0001R22gGbvLqg5+mSbv7kpiOjFTLE7eddHYSfaqMA8=</td>\n",
       "      <td>1</td>\n",
       "      <td>1</td>\n",
       "      <td>0</td>\n",
       "      <td>0</td>\n",
       "      <td>0</td>\n",
       "      <td>0</td>\n",
       "      <td>0</td>\n",
       "      <td>0</td>\n",
       "      <td>0</td>\n",
       "    </tr>\n",
       "    <tr>\n",
       "      <th>2</th>\n",
       "      <td>0002C9hPWNdSTXKXblucfvnUaqa77eXXEsRoTge2Qr8=</td>\n",
       "      <td>1</td>\n",
       "      <td>1</td>\n",
       "      <td>0</td>\n",
       "      <td>0</td>\n",
       "      <td>0</td>\n",
       "      <td>0</td>\n",
       "      <td>0</td>\n",
       "      <td>0</td>\n",
       "      <td>0</td>\n",
       "    </tr>\n",
       "    <tr>\n",
       "      <th>3</th>\n",
       "      <td>0002PRyVGO/PD9Tj3S7W79JCi0otKMSfCI3RGFv0GJo=</td>\n",
       "      <td>10</td>\n",
       "      <td>6</td>\n",
       "      <td>4</td>\n",
       "      <td>0</td>\n",
       "      <td>0</td>\n",
       "      <td>0</td>\n",
       "      <td>0</td>\n",
       "      <td>0</td>\n",
       "      <td>0</td>\n",
       "    </tr>\n",
       "    <tr>\n",
       "      <th>4</th>\n",
       "      <td>0005vOGB8+M9AXMwj/abTgxySeBzy2cazO6p1H8C/VM=</td>\n",
       "      <td>2</td>\n",
       "      <td>2</td>\n",
       "      <td>0</td>\n",
       "      <td>0</td>\n",
       "      <td>0</td>\n",
       "      <td>0</td>\n",
       "      <td>0</td>\n",
       "      <td>0</td>\n",
       "      <td>0</td>\n",
       "    </tr>\n",
       "  </tbody>\n",
       "</table>\n",
       "</div>"
      ],
      "text/plain": [
       "                                         sha_id  total_problems  \\\n",
       "0                                        sha_id               0   \n",
       "1  0001R22gGbvLqg5+mSbv7kpiOjFTLE7eddHYSfaqMA8=               1   \n",
       "2  0002C9hPWNdSTXKXblucfvnUaqa77eXXEsRoTge2Qr8=               1   \n",
       "3  0002PRyVGO/PD9Tj3S7W79JCi0otKMSfCI3RGFv0GJo=              10   \n",
       "4  0005vOGB8+M9AXMwj/abTgxySeBzy2cazO6p1H8C/VM=               2   \n",
       "\n",
       "   never_stuck_problems  never_unstuck_problems  unstuck_problems  \\\n",
       "0                     0                       0                 0   \n",
       "1                     1                       0                 0   \n",
       "2                     1                       0                 0   \n",
       "3                     6                       4                 0   \n",
       "4                     2                       0                 0   \n",
       "\n",
       "   unstuck_same_exercise  unstuck_remediation_problems  \\\n",
       "0                      0                             0   \n",
       "1                      0                             0   \n",
       "2                      0                             0   \n",
       "3                      0                             0   \n",
       "4                      0                             0   \n",
       "\n",
       "   unstuck_correct_remdiation_problems  unstuck_prereq_avail_problems  \\\n",
       "0                                    0                              0   \n",
       "1                                    0                              0   \n",
       "2                                    0                              0   \n",
       "3                                    0                              0   \n",
       "4                                    0                              0   \n",
       "\n",
       "   unstuck_is_prereq_match_problems  \n",
       "0                                 0  \n",
       "1                                 0  \n",
       "2                                 0  \n",
       "3                                 0  \n",
       "4                                 0  "
      ]
     },
     "execution_count": 7,
     "metadata": {},
     "output_type": "execute_result"
    }
   ],
   "source": [
    "stuck.head()"
   ]
  },
  {
   "cell_type": "code",
   "execution_count": 133,
   "metadata": {},
   "outputs": [
    {
     "name": "stdout",
     "output_type": "stream",
     "text": [
      "Summary of Metrics:\n",
      "                                               metric total learners  \\\n",
      "0                                  01-total learners           12257   \n",
      "1                                 02-tried a problems          10990   \n",
      "2                  03-immediately mastered a problem            8903   \n",
      "3                                   04-got stuck ever           8620   \n",
      "4                                05-unable to unstuck           7693   \n",
      "5                                  06-able to unstuck           4727   \n",
      "6           07-unstuck exercise have prereq available           4590   \n",
      "7       08-prereq for unstuck exercise matches prereq           1492   \n",
      "8   09-unstuck remediation problems for unstuck ex...           4409   \n",
      "9   10-unstuck remediation problems same exercise ...           4375   \n",
      "10  11-unstuck remediation problems answered corre...           4205   \n",
      "\n",
      "   total problems  \n",
      "0               -  \n",
      "1          180212  \n",
      "2          115169  \n",
      "3           65043  \n",
      "4           40002  \n",
      "5           25041  \n",
      "6           23678  \n",
      "7            5140  \n",
      "8         1261719  \n",
      "9          147276  \n",
      "10         831608  \n"
     ]
    }
   ],
   "source": [
    "# Find stats for those who exhibited learning: i.e.,\n",
    "# How many learners never get stuck\n",
    "# How many learner \n",
    "# How many learners ever get stuck?\n",
    "\n",
    "\n",
    "\n",
    "output_metrics = {\n",
    "    '01-total learners ':{\n",
    "            'total learners': stuck['sha_id'].count(),\n",
    "            'total problems': '-'\n",
    "            },\n",
    "    '02-tried a problems':{\n",
    "            'total learners': sum(stuck['total_problems']>0),\n",
    "            'total problems': stuck['total_problems'].sum()\n",
    "            },\n",
    "    '03-immediately mastered a problem ':{\n",
    "            'total learners': sum(stuck['never_stuck_problems']>0),\n",
    "            'total problems': stuck['never_stuck_problems'].sum() \n",
    "            },\n",
    "    '04-got stuck ever':{\n",
    "            'total learners': sum((stuck['never_unstuck_problems']>0)|(stuck['unstuck_problems']>0)),\n",
    "            'total problems': stuck['never_unstuck_problems'].sum() + stuck['unstuck_problems'].sum() \n",
    "            },\n",
    "    '05-unable to unstuck':{\n",
    "            'total learners': sum(stuck['never_unstuck_problems']>0),\n",
    "            'total problems':  stuck['never_unstuck_problems'].sum()\n",
    "            },\n",
    "    '06-able to unstuck':{\n",
    "            'total learners':sum(stuck['unstuck_problems']>0),\n",
    "            'total problems': stuck['unstuck_problems'].sum()\n",
    "            },    \n",
    "    '07-unstuck exercise have prereq available':{\n",
    "            'total learners':sum(stuck['unstuck_prereq_avail_problems']>0),\n",
    "            'total problems': stuck['unstuck_prereq_avail_problems'].sum()\n",
    "            },   \n",
    "    '08-prereq for unstuck exercise matches prereq':{\n",
    "            'total learners':sum(stuck['unstuck_is_prereq_match_problems']>0),\n",
    "            'total problems': stuck['unstuck_is_prereq_match_problems'].sum()\n",
    "            },\n",
    "    '09-unstuck remediation problems for unstuck exercise':{\n",
    "            'total learners':sum(stuck['unstuck_remediation_problems']>0),\n",
    "            'total problems': stuck['unstuck_remediation_problems'].sum()\n",
    "            },      \n",
    "    '10-unstuck remediation problems same exercise as stuck exercise':{\n",
    "            'total learners':sum(stuck['unstuck_same_exercise']>0),\n",
    "            'total problems': stuck['unstuck_same_exercise'].sum()\n",
    "            },      \n",
    "    '11-unstuck remediation problems answered correctly':{\n",
    "            'total learners':sum(stuck['unstuck_correct_remdiation_problems']>0),\n",
    "            'total problems': stuck['unstuck_correct_remdiation_problems'].sum()\n",
    "            }    \n",
    "\n",
    "}\n",
    "\n",
    "output = pd.DataFrame(columns = ['metric','total learners','total problems'])\n",
    "\n",
    "for metric in sorted(output_metrics.keys()):\n",
    "    output = output.append({'metric': metric,\n",
    "                           'total learners': output_metrics[metric]['total learners'],\n",
    "                           'total problems': output_metrics[metric]['total problems']},\n",
    "                          ignore_index = True)\n",
    "\n",
    "print('Summary of Metrics:')\n",
    "print(output)\n",
    "\n"
   ]
  },
  {
   "cell_type": "code",
   "execution_count": 143,
   "metadata": {},
   "outputs": [
    {
     "name": "stdout",
     "output_type": "stream",
     "text": [
      "Histogram of Perc Stuck Problems Out of Total Problems:\n"
     ]
    },
    {
     "name": "stderr",
     "output_type": "stream",
     "text": [
      "/usr/local/lib/python3.4/dist-packages/matplotlib/axes/_axes.py:6571: UserWarning: The 'normed' kwarg is deprecated, and has been replaced by the 'density' kwarg.\n",
      "  warnings.warn(\"The 'normed' kwarg is deprecated, and has been \"\n"
     ]
    },
    {
     "data": {
      "image/png": "[encoded data removed]",
      "text/plain": [
       "<Figure size 432x288 with 1 Axes>"
      ]
     },
     "metadata": {
      "needs_background": "light"
     },
     "output_type": "display_data"
    }
   ],
   "source": [
    "# distribution of stuck problems \n",
    "print('Histogram of Perc Stuck Problems Out of Total Problems:')\n",
    "stuck_with_problems = stuck[stuck['total_problems']>0]\n",
    "perc_stuck =(stuck_with_problems['never_unstuck_problems'] +\n",
    "               stuck_with_problems['unstuck_problems'])/stuck_with_problems['total_problems']\n",
    "stuck_norm_fit = stats.norm.pdf( perc_stuck, np.mean(perc_stuck), np.std(perc_stuck))\n",
    "plt.plot(perc_stuck, stuck_norm_fit,'.', color = 'black')\n",
    "plt.hist(perc_stuck, normed=True)\n",
    "plt.show()\n"
   ]
  },
  {
   "cell_type": "code",
   "execution_count": 142,
   "metadata": {},
   "outputs": [
    {
     "name": "stdout",
     "output_type": "stream",
     "text": [
      "Histogram of Perc Unstuck Problems Out of Total Stuck:\n"
     ]
    },
    {
     "name": "stderr",
     "output_type": "stream",
     "text": [
      "/usr/local/lib/python3.4/dist-packages/matplotlib/axes/_axes.py:6571: UserWarning: The 'normed' kwarg is deprecated, and has been replaced by the 'density' kwarg.\n",
      "  warnings.warn(\"The 'normed' kwarg is deprecated, and has been \"\n"
     ]
    },
    {
     "data": {
      "image/png": "[encoded data removed]",
      "text/plain": [
       "<Figure size 432x288 with 1 Axes>"
      ]
     },
     "metadata": {
      "needs_background": "light"
     },
     "output_type": "display_data"
    }
   ],
   "source": [
    "plt.close()\n",
    "print('Histogram of Perc Unstuck Problems Out of Total Stuck:')\n",
    "unstuck_with_problems = stuck[(stuck['never_unstuck_problems']>0) |\n",
    "                           (stuck['unstuck_problems']>0)]\n",
    "perc_unstuck = unstuck_with_problems['unstuck_problems']/(unstuck_with_problems['never_unstuck_problems'] +\n",
    "                           unstuck_with_problems['unstuck_problems'])\n",
    "\n",
    "unstuck_norm_fit = stats.norm.pdf( perc_unstuck, np.mean(perc_unstuck), np.std(perc_unstuck))\n",
    "plt.plot(perc_unstuck, unstuck_norm_fit,'.', color = 'black')\n",
    "plt.hist(perc_unstuck, normed=True)\n",
    "plt.show()"
   ]
  }
 ],
 "metadata": {
  "kernelspec": {
   "display_name": "Python 2",
   "language": "python",
   "name": "python2"
  },
  "language_info": {
   "codemirror_mode": {
    "name": "ipython",
    "version": 3
   },
   "file_extension": ".py",
   "mimetype": "text/x-python",
   "name": "python",
   "nbconvert_exporter": "python",
   "pygments_lexer": "ipython3",
   "version": "3.4.3"
  }
 },
 "nbformat": 4,
 "nbformat_minor": 2
}
