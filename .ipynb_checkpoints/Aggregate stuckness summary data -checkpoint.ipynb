{
 "cells": [
  {
   "cell_type": "code",
   "execution_count": 72,
   "metadata": {},
   "outputs": [],
   "source": [
    "import pandas as pd\n",
    "import scipy.stats as stats\n",
    "import numpy as np\n",
    "import matplotlib\n",
    "import matplotlib.pyplot as plt\n",
    "\n",
    "# For the stuckness summary by learner data \n",
    "# The current dataset being pulled is a subset who exhibited learning behavior \n",
    "# Out of the  total learners who worked on more than 1 exercise, \n",
    "# about 82% exhibited some signs of learning,\n",
    "# where an exercise had both correct and incorrect responses. Out of the 18%  remaining sessions,  \n",
    "# 15% mastered some exercises immediately and 12% never got unstuck out of some exercises. \n",
    "# Only 5% mastered all their exercises and 2% were stuck on all their exercises. \n",
    "\n",
    "stuck = pd.read_csv('~/cahl_output/summarize_stuckness_bylearner_problemtype.csv')\n"
   ]
  },
  {
   "cell_type": "code",
   "execution_count": 74,
   "metadata": {},
   "outputs": [
    {
     "data": {
      "text/html": [
       "<div>\n",
       "<style scoped>\n",
       "    .dataframe tbody tr th:only-of-type {\n",
       "        vertical-align: middle;\n",
       "    }\n",
       "\n",
       "    .dataframe tbody tr th {\n",
       "        vertical-align: top;\n",
       "    }\n",
       "\n",
       "    .dataframe thead th {\n",
       "        text-align: right;\n",
       "    }\n",
       "</style>\n",
       "<table border=\"1\" class=\"dataframe\">\n",
       "  <thead>\n",
       "    <tr style=\"text-align: right;\">\n",
       "      <th></th>\n",
       "      <th>sha_id</th>\n",
       "      <th>total_problems</th>\n",
       "      <th>never_stuck_problems</th>\n",
       "      <th>never_unstuck_problems</th>\n",
       "      <th>unstuck_problems</th>\n",
       "      <th>reattempted_stuck_problems</th>\n",
       "      <th>unstuck_different_exercise</th>\n",
       "      <th>unstuck_remediation_problems</th>\n",
       "      <th>unstuck_correct_remdiation_problems</th>\n",
       "      <th>unstuck_prereq_avail_problems</th>\n",
       "      <th>unstuck_is_prereq_match_problems</th>\n",
       "      <th>unstuck_is_topic_tree_avail_problems</th>\n",
       "      <th>unstuck_is_not_unit_match_problems</th>\n",
       "      <th>unstuck_is_not_lesson_match_problems</th>\n",
       "      <th>unstuck_topic_tree_avail_remediation_items</th>\n",
       "      <th>unstuck_unit_match_remediation_items</th>\n",
       "      <th>unstuck_lesson_match_remediation_items</th>\n",
       "      <th>perc_unstuck</th>\n",
       "    </tr>\n",
       "  </thead>\n",
       "  <tbody>\n",
       "    <tr>\n",
       "      <th>0</th>\n",
       "      <td>sha_id</td>\n",
       "      <td>0</td>\n",
       "      <td>0</td>\n",
       "      <td>0</td>\n",
       "      <td>0</td>\n",
       "      <td>0</td>\n",
       "      <td>0</td>\n",
       "      <td>0</td>\n",
       "      <td>0</td>\n",
       "      <td>0</td>\n",
       "      <td>0</td>\n",
       "      <td>0</td>\n",
       "      <td>0</td>\n",
       "      <td>0</td>\n",
       "      <td>0</td>\n",
       "      <td>0</td>\n",
       "      <td>0</td>\n",
       "      <td>NaN</td>\n",
       "    </tr>\n",
       "    <tr>\n",
       "      <th>1</th>\n",
       "      <td>0001R22gGbvLqg5+mSbv7kpiOjFTLE7eddHYSfaqMA8=</td>\n",
       "      <td>1</td>\n",
       "      <td>1</td>\n",
       "      <td>0</td>\n",
       "      <td>0</td>\n",
       "      <td>0</td>\n",
       "      <td>0</td>\n",
       "      <td>0</td>\n",
       "      <td>0</td>\n",
       "      <td>0</td>\n",
       "      <td>0</td>\n",
       "      <td>0</td>\n",
       "      <td>0</td>\n",
       "      <td>0</td>\n",
       "      <td>0</td>\n",
       "      <td>0</td>\n",
       "      <td>0</td>\n",
       "      <td>NaN</td>\n",
       "    </tr>\n",
       "    <tr>\n",
       "      <th>2</th>\n",
       "      <td>0002PRyVGO/PD9Tj3S7W79JCi0otKMSfCI3RGFv0GJo=</td>\n",
       "      <td>8</td>\n",
       "      <td>4</td>\n",
       "      <td>4</td>\n",
       "      <td>0</td>\n",
       "      <td>2</td>\n",
       "      <td>0</td>\n",
       "      <td>0</td>\n",
       "      <td>0</td>\n",
       "      <td>0</td>\n",
       "      <td>0</td>\n",
       "      <td>0</td>\n",
       "      <td>0</td>\n",
       "      <td>0</td>\n",
       "      <td>0</td>\n",
       "      <td>0</td>\n",
       "      <td>0</td>\n",
       "      <td>0.0</td>\n",
       "    </tr>\n",
       "    <tr>\n",
       "      <th>3</th>\n",
       "      <td>0005vOGB8+M9AXMwj/abTgxySeBzy2cazO6p1H8C/VM=</td>\n",
       "      <td>2</td>\n",
       "      <td>2</td>\n",
       "      <td>0</td>\n",
       "      <td>0</td>\n",
       "      <td>0</td>\n",
       "      <td>0</td>\n",
       "      <td>0</td>\n",
       "      <td>0</td>\n",
       "      <td>0</td>\n",
       "      <td>0</td>\n",
       "      <td>0</td>\n",
       "      <td>0</td>\n",
       "      <td>0</td>\n",
       "      <td>0</td>\n",
       "      <td>0</td>\n",
       "      <td>0</td>\n",
       "      <td>NaN</td>\n",
       "    </tr>\n",
       "    <tr>\n",
       "      <th>4</th>\n",
       "      <td>00068D7jsV0viktfuth2oNk8P8nSh04m70ODvozWAH0=</td>\n",
       "      <td>5</td>\n",
       "      <td>5</td>\n",
       "      <td>0</td>\n",
       "      <td>0</td>\n",
       "      <td>0</td>\n",
       "      <td>0</td>\n",
       "      <td>0</td>\n",
       "      <td>0</td>\n",
       "      <td>0</td>\n",
       "      <td>0</td>\n",
       "      <td>0</td>\n",
       "      <td>0</td>\n",
       "      <td>0</td>\n",
       "      <td>0</td>\n",
       "      <td>0</td>\n",
       "      <td>0</td>\n",
       "      <td>NaN</td>\n",
       "    </tr>\n",
       "  </tbody>\n",
       "</table>\n",
       "</div>"
      ],
      "text/plain": [
       "                                         sha_id  total_problems  \\\n",
       "0                                        sha_id               0   \n",
       "1  0001R22gGbvLqg5+mSbv7kpiOjFTLE7eddHYSfaqMA8=               1   \n",
       "2  0002PRyVGO/PD9Tj3S7W79JCi0otKMSfCI3RGFv0GJo=               8   \n",
       "3  0005vOGB8+M9AXMwj/abTgxySeBzy2cazO6p1H8C/VM=               2   \n",
       "4  00068D7jsV0viktfuth2oNk8P8nSh04m70ODvozWAH0=               5   \n",
       "\n",
       "   never_stuck_problems  never_unstuck_problems  unstuck_problems  \\\n",
       "0                     0                       0                 0   \n",
       "1                     1                       0                 0   \n",
       "2                     4                       4                 0   \n",
       "3                     2                       0                 0   \n",
       "4                     5                       0                 0   \n",
       "\n",
       "   reattempted_stuck_problems  unstuck_different_exercise  \\\n",
       "0                           0                           0   \n",
       "1                           0                           0   \n",
       "2                           2                           0   \n",
       "3                           0                           0   \n",
       "4                           0                           0   \n",
       "\n",
       "   unstuck_remediation_problems  unstuck_correct_remdiation_problems  \\\n",
       "0                             0                                    0   \n",
       "1                             0                                    0   \n",
       "2                             0                                    0   \n",
       "3                             0                                    0   \n",
       "4                             0                                    0   \n",
       "\n",
       "   unstuck_prereq_avail_problems  unstuck_is_prereq_match_problems  \\\n",
       "0                              0                                 0   \n",
       "1                              0                                 0   \n",
       "2                              0                                 0   \n",
       "3                              0                                 0   \n",
       "4                              0                                 0   \n",
       "\n",
       "   unstuck_is_topic_tree_avail_problems  unstuck_is_not_unit_match_problems  \\\n",
       "0                                     0                                   0   \n",
       "1                                     0                                   0   \n",
       "2                                     0                                   0   \n",
       "3                                     0                                   0   \n",
       "4                                     0                                   0   \n",
       "\n",
       "   unstuck_is_not_lesson_match_problems  \\\n",
       "0                                     0   \n",
       "1                                     0   \n",
       "2                                     0   \n",
       "3                                     0   \n",
       "4                                     0   \n",
       "\n",
       "   unstuck_topic_tree_avail_remediation_items  \\\n",
       "0                                           0   \n",
       "1                                           0   \n",
       "2                                           0   \n",
       "3                                           0   \n",
       "4                                           0   \n",
       "\n",
       "   unstuck_unit_match_remediation_items  \\\n",
       "0                                     0   \n",
       "1                                     0   \n",
       "2                                     0   \n",
       "3                                     0   \n",
       "4                                     0   \n",
       "\n",
       "   unstuck_lesson_match_remediation_items  perc_unstuck  \n",
       "0                                       0           NaN  \n",
       "1                                       0           NaN  \n",
       "2                                       0           0.0  \n",
       "3                                       0           NaN  \n",
       "4                                       0           NaN  "
      ]
     },
     "execution_count": 74,
     "metadata": {},
     "output_type": "execute_result"
    }
   ],
   "source": [
    "stuck['perc_unstuck'] = stuck['unstuck_problems']/(\n",
    "    stuck['never_unstuck_problems'] + stuck['unstuck_problems'])\n",
    "\n",
    "stuck.shape\n",
    "stuck.head()"
   ]
  },
  {
   "cell_type": "code",
   "execution_count": 48,
   "metadata": {},
   "outputs": [
    {
     "name": "stdout",
     "output_type": "stream",
     "text": [
      "Summary of Metrics:\n",
      "                                               metric total learners  \\\n",
      "0                                  01-total learners         5850161   \n",
      "1                                 02-tried a problems        5726004   \n",
      "2                  03-immediately mastered a problem         5162593   \n",
      "3                                   04-got stuck ever        5039549   \n",
      "4                                05-unable to unstuck        4528457   \n",
      "5                             06-attempted to unstuck        4149439   \n",
      "6                                  07-able to unstuck        3238783   \n",
      "7           08-unstuck exercise have prereq available        3142214   \n",
      "8       09-prereq for unstuck exercise matches prereq        1110778   \n",
      "9   10-unstuck remediation problems for unstuck ex...        3061402   \n",
      "10  11-unstuck remediation problems different exer...        1635884   \n",
      "11  12-unstuck remediation problems answered corre...        2951244   \n",
      "12      13-unstuck remediation exericse in topic tree        3061402   \n",
      "13  14-unstuck remediation at least one not in sam...         805842   \n",
      "14  15-unstuck remediation exercise at least one n...        1250015   \n",
      "15  16-unstuck remediation problems for exercises ...        3061402   \n",
      "16       17-unstuck remediation problems in same unit        3059859   \n",
      "17     18-unstuck remediation problems in same lesson        3054103   \n",
      "\n",
      "   total problems  \n",
      "0               -  \n",
      "1       128825485  \n",
      "2        82098342  \n",
      "3        46727143  \n",
      "4        27750465  \n",
      "5        32019397  \n",
      "6        18976678  \n",
      "7        17990157  \n",
      "8         4194937  \n",
      "9      1167394637  \n",
      "10     1056276655  \n",
      "11      757602083  \n",
      "12       17937538  \n",
      "13        4501730  \n",
      "14        6239203  \n",
      "15     1167394637  \n",
      "16      490616360  \n",
      "17      235759868  \n"
     ]
    }
   ],
   "source": [
    "# Find stats for those who exhibited learning: i.e.,\n",
    "# How many learners never get stuck\n",
    "# How many learner \n",
    "# How many learners ever get stuck?\n",
    "\n",
    "\n",
    "\n",
    "output_metrics = {\n",
    "    '01-total learners ':{\n",
    "            'total learners': stuck['sha_id'].count(),\n",
    "            'total problems': '-'\n",
    "            },\n",
    "    '02-tried a problems':{\n",
    "            'total learners': sum(stuck['total_problems']>0),\n",
    "            'total problems': stuck['total_problems'].sum()\n",
    "            },\n",
    "    '03-immediately mastered a problem ':{\n",
    "            'total learners': sum(stuck['never_stuck_problems']>0),\n",
    "            'total problems': stuck['never_stuck_problems'].sum() \n",
    "            },\n",
    "    '04-got stuck ever':{\n",
    "            'total learners': sum((stuck['never_unstuck_problems']>0)|(stuck['unstuck_problems']>0)),\n",
    "            'total problems': stuck['never_unstuck_problems'].sum() + stuck['unstuck_problems'].sum() \n",
    "            },\n",
    "    '05-unable to unstuck':{\n",
    "            'total learners': sum(stuck['never_unstuck_problems']>0),\n",
    "            'total problems':  stuck['never_unstuck_problems'].sum()\n",
    "            },\n",
    "    '06-attempted to unstuck':{\n",
    "            'total learners':sum(stuck['reattempted_stuck_problems']>0),\n",
    "            'total problems': stuck['reattempted_stuck_problems'].sum()\n",
    "            },    \n",
    "    '07-able to unstuck':{\n",
    "            'total learners':sum(stuck['unstuck_problems']>0),\n",
    "            'total problems': stuck['unstuck_problems'].sum()\n",
    "            },    \n",
    "    '08-unstuck exercise have prereq available':{\n",
    "            'total learners':sum(stuck['unstuck_prereq_avail_problems']>0),\n",
    "            'total problems': stuck['unstuck_prereq_avail_problems'].sum()\n",
    "            },   \n",
    "    '09-prereq for unstuck exercise matches prereq':{\n",
    "            'total learners':sum(stuck['unstuck_is_prereq_match_problems']>0),\n",
    "            'total problems': stuck['unstuck_is_prereq_match_problems'].sum()\n",
    "            },\n",
    "    '10-unstuck remediation problems for unstuck exercise':{\n",
    "            'total learners':sum(stuck['unstuck_remediation_problems']>0),\n",
    "            'total problems': stuck['unstuck_remediation_problems'].sum()\n",
    "            },      \n",
    "    '11-unstuck remediation problems different exercise as stuck exercise':{\n",
    "            'total learners':sum(stuck['unstuck_different_exercise']>0),\n",
    "            'total problems': stuck['unstuck_different_exercise'].sum()\n",
    "            },  \n",
    "    '12-unstuck remediation problems answered correctly':{\n",
    "            'total learners':sum(stuck['unstuck_correct_remdiation_problems']>0),\n",
    "            'total problems': stuck['unstuck_correct_remdiation_problems'].sum()\n",
    "            },    \n",
    "    '13-unstuck remediation exericse in topic tree':{\n",
    "            'total learners':sum(stuck['unstuck_is_topic_tree_avail_problems']>0),\n",
    "            'total problems': stuck['unstuck_is_topic_tree_avail_problems'].sum()\n",
    "            },    \n",
    "    '14-unstuck remediation at least one not in same unit':{\n",
    "            'total learners':sum(stuck['unstuck_is_not_unit_match_problems']>0),\n",
    "            'total problems': stuck['unstuck_is_not_unit_match_problems'].sum()\n",
    "            },    \n",
    "    '15-unstuck remediation exercise at least one not in same lesson':{\n",
    "            'total learners':sum(stuck['unstuck_is_not_lesson_match_problems']>0),\n",
    "            'total problems': stuck['unstuck_is_not_lesson_match_problems'].sum()\n",
    "            },\n",
    "    '16-unstuck remediation problems for exercises in topic tree':{\n",
    "            'total learners':sum(stuck['unstuck_topic_tree_avail_remediation_items']>0),\n",
    "            'total problems': stuck['unstuck_topic_tree_avail_remediation_items'].sum()\n",
    "            },    \n",
    "    '17-unstuck remediation problems in same unit':{\n",
    "            'total learners':sum(stuck['unstuck_unit_match_remediation_items']>0),\n",
    "            'total problems': stuck['unstuck_unit_match_remediation_items'].sum()\n",
    "            },    \n",
    "    '18-unstuck remediation problems in same lesson':{\n",
    "            'total learners':sum(stuck['unstuck_lesson_match_remediation_items']>0),\n",
    "            'total problems': stuck['unstuck_lesson_match_remediation_items'].sum()\n",
    "            }  \n",
    "}\n",
    "\n",
    "output = pd.DataFrame(columns = ['metric','total learners','total problems'])\n",
    "\n",
    "for metric in sorted(output_metrics.keys()):\n",
    "    output = output.append({'metric': metric,\n",
    "                           'total learners': output_metrics[metric]['total learners'],\n",
    "                           'total problems': output_metrics[metric]['total problems']},\n",
    "                          ignore_index = True)\n",
    "\n",
    "print('Summary of Metrics:')\n",
    "print(output)\n",
    "output.to_csv('summary_of_metrics.csv')\n",
    "# stored here\n",
    "# https://docs.google.com/spreadsheets/d/12qtEK-M36oz_ZLam6KveuWQniH6YYoZkOiqA17x3tqA/edit#gid=0"
   ]
  },
  {
   "cell_type": "code",
   "execution_count": 66,
   "metadata": {},
   "outputs": [
    {
     "name": "stderr",
     "output_type": "stream",
     "text": [
      "/usr/local/lib/python3.4/dist-packages/ipykernel_launcher.py:19: UserWarning: Boolean Series key will be reindexed to match DataFrame index.\n",
      "/usr/local/lib/python3.4/dist-packages/ipykernel_launcher.py:21: UserWarning: Boolean Series key will be reindexed to match DataFrame index.\n",
      "/usr/local/lib/python3.4/dist-packages/ipykernel_launcher.py:28: UserWarning: Boolean Series key will be reindexed to match DataFrame index.\n",
      "/usr/local/lib/python3.4/dist-packages/ipykernel_launcher.py:30: UserWarning: Boolean Series key will be reindexed to match DataFrame index.\n",
      "/usr/local/lib/python3.4/dist-packages/ipykernel_launcher.py:36: UserWarning: Boolean Series key will be reindexed to match DataFrame index.\n",
      "/usr/local/lib/python3.4/dist-packages/ipykernel_launcher.py:38: UserWarning: Boolean Series key will be reindexed to match DataFrame index.\n"
     ]
    },
    {
     "data": {
      "text/plain": [
       "95.68550873377886"
      ]
     },
     "execution_count": 66,
     "metadata": {},
     "output_type": "execute_result"
    }
   ],
   "source": [
    "# For those learners who are remediating, and getting unstuck, \n",
    "# what is the average number of remediation problems \n",
    "\n",
    "# average 60 remediation problems \n",
    "stuck['unstuck_remediation_problems'].sum()/stuck['unstuck_problems'].sum()\n",
    "\n",
    "# if they only try out the same exercise\n",
    "# average 4 remediation problems \n",
    "stuck[stuck['unstuck_different_exercise']==0].unstuck_remediation_problems.sum()/stuck[\n",
    "    stuck['unstuck_different_exercise']==0].unstuck_problems.sum()\n",
    "# if they only try out different exercise (any exercise)\n",
    "# average 74 remediation problems \n",
    "stuck[stuck['unstuck_different_exercise']>0].unstuck_remediation_problems.sum()/stuck[\n",
    "    stuck['unstuck_different_exercise']>0].unstuck_problems.sum()\n",
    "\n",
    "\n",
    "# if they try out different exercise but stay in same lesson \n",
    "# average 10 remediation problems \n",
    "stuck[stuck['unstuck_different_exercise']>0][\n",
    "    stuck['unstuck_is_not_lesson_match_problems']==0\n",
    "     ].unstuck_remediation_problems.sum()/stuck[\n",
    "    stuck['unstuck_different_exercise']>0][stuck['unstuck_is_not_lesson_match_problems']==0\n",
    "  ].unstuck_problems.sum()\n",
    "\n",
    "\n",
    "# if they try out different lesson but stay in same unit \n",
    "# average 20 remediation problems \n",
    "stuck[stuck['unstuck_is_not_lesson_match_problems']>0][\n",
    "    stuck['unstuck_is_not_unit_match_problems']==0\n",
    "     ].unstuck_remediation_problems.sum()/stuck[\n",
    "    stuck['unstuck_is_not_lesson_match_problems']>0][stuck['unstuck_is_not_unit_match_problems']==0\n",
    "  ].unstuck_problems.sum()\n",
    "\n",
    "# if they try out different unit\n",
    "# average 95 remediation problems \n",
    "stuck[stuck['unstuck_is_not_lesson_match_problems']>0][\n",
    "    stuck['unstuck_is_not_unit_match_problems']>0\n",
    "     ].unstuck_remediation_problems.sum()/stuck[\n",
    "    stuck['unstuck_is_not_lesson_match_problems']>0][stuck['unstuck_is_not_unit_match_problems']>0\n",
    "  ].unstuck_problems.sum()\n"
   ]
  },
  {
   "cell_type": "code",
   "execution_count": 71,
   "metadata": {},
   "outputs": [
    {
     "name": "stderr",
     "output_type": "stream",
     "text": [
      "/usr/local/lib/python3.4/dist-packages/ipykernel_launcher.py:20: UserWarning: Boolean Series key will be reindexed to match DataFrame index.\n",
      "/usr/local/lib/python3.4/dist-packages/ipykernel_launcher.py:22: UserWarning: Boolean Series key will be reindexed to match DataFrame index.\n",
      "/usr/local/lib/python3.4/dist-packages/ipykernel_launcher.py:29: UserWarning: Boolean Series key will be reindexed to match DataFrame index.\n",
      "/usr/local/lib/python3.4/dist-packages/ipykernel_launcher.py:31: UserWarning: Boolean Series key will be reindexed to match DataFrame index.\n",
      "/usr/local/lib/python3.4/dist-packages/ipykernel_launcher.py:37: UserWarning: Boolean Series key will be reindexed to match DataFrame index.\n",
      "/usr/local/lib/python3.4/dist-packages/ipykernel_launcher.py:39: UserWarning: Boolean Series key will be reindexed to match DataFrame index.\n"
     ]
    },
    {
     "data": {
      "text/plain": [
       "0.30407612256862615"
      ]
     },
     "execution_count": 71,
     "metadata": {},
     "output_type": "execute_result"
    }
   ],
   "source": [
    "# For those learners who are remediating, and getting unstuck, \n",
    "# what is the average likelihood they pick the right prerequisite \n",
    "\n",
    "# average 60 remediation problems \n",
    "stuck['unstuck_remediation_problems'].sum()/stuck['unstuck_problems'].sum()\n",
    "\n",
    "# if they only try out the same exercise\n",
    "# average 1% prerequisite match\n",
    "stuck[stuck['unstuck_different_exercise']==0].unstuck_is_prereq_match_problems.sum()/stuck[\n",
    "    stuck['unstuck_different_exercise']==0].unstuck_prereq_avail_problems.sum()\n",
    "# if they only try out different exercise (any exercise)\n",
    "# average 28% prerequisite match\n",
    "stuck[stuck['unstuck_different_exercise']>0].unstuck_is_prereq_match_problems.sum()/stuck[\n",
    "    stuck['unstuck_different_exercise']>0].unstuck_prereq_avail_problems.sum()\n",
    "\n",
    "\n",
    "# # if they try out different exercise but stay in same lesson \n",
    "# # average 17% prerequisite match\n",
    "stuck[stuck['unstuck_different_exercise']>0][\n",
    "    stuck['unstuck_is_not_lesson_match_problems']==0\n",
    "     ].unstuck_is_prereq_match_problems.sum()/stuck[\n",
    "    stuck['unstuck_different_exercise']>0][stuck['unstuck_is_not_lesson_match_problems']==0\n",
    "  ].unstuck_prereq_avail_problems.sum()\n",
    "\n",
    "\n",
    "# # if they try out different lesson but stay in same unit \n",
    "# # average 24% prerequisite match\n",
    "stuck[stuck['unstuck_is_not_lesson_match_problems']>0][\n",
    "    stuck['unstuck_is_not_unit_match_problems']==0\n",
    "     ].unstuck_is_prereq_match_problems.sum()/stuck[\n",
    "    stuck['unstuck_is_not_lesson_match_problems']>0][stuck['unstuck_is_not_unit_match_problems']==0\n",
    "  ].unstuck_prereq_avail_problems.sum()\n",
    "\n",
    "# # if they try out different unit\n",
    "# # average 30% prerequisite match\n",
    "stuck[stuck['unstuck_is_not_lesson_match_problems']>0][\n",
    "    stuck['unstuck_is_not_unit_match_problems']>0\n",
    "     ].unstuck_is_prereq_match_problems.sum()/stuck[\n",
    "    stuck['unstuck_is_not_lesson_match_problems']>0][stuck['unstuck_is_not_unit_match_problems']>0\n",
    "  ].unstuck_prereq_avail_problems.sum()\n"
   ]
  },
  {
   "cell_type": "code",
   "execution_count": null,
   "metadata": {},
   "outputs": [],
   "source": [
    "# function for plot \n",
    "\n",
    "def plot_histogram(plot_variable, label){\n",
    "    # plot histogram\n",
    "    norm_fit = stats.norm.pdf( \n",
    "        plot_variable, np.mean(plot_variable), np.std(plot_variable)) \n",
    "    plt.plot(plot_variable, stuck_norm_fit,'.', color = 'black')\n",
    "    plt.hist(perc_never_stuck, density=True)\n",
    "    plt.show()\n",
    "    \n",
    "    # label probabiity\n",
    "    print(label)\n",
    "    print( '%f percent with likelihood over 50' % np.round(sum(plot_variable>=0.5)*100/len(plot_variable), decimals = 0))\n",
    "    print( '%f percent with likelihood over 80' % np.round(sum(plot_variable>=0.8)*100/len(plot_variable), decimals = 0))\n",
    "    print( '%f percent with likelihood under 20' % np.round(sum(plot_variable<=0.8)*100/len(plot_variable), decimals = 0))\n",
    "}\n"
   ]
  },
  {
   "cell_type": "code",
   "execution_count": 158,
   "metadata": {
    "scrolled": true
   },
   "outputs": [
    {
     "name": "stdout",
     "output_type": "stream",
     "text": [
      "Histogram of Perc Stuck Problems Out of Total Problems:\n"
     ]
    },
    {
     "data": {
      "image/png": "[encoded data removed]",
      "text/plain": [
       "<Figure size 432x288 with 1 Axes>"
      ]
     },
     "metadata": {
      "needs_background": "light"
     },
     "output_type": "display_data"
    },
    {
     "name": "stdout",
     "output_type": "stream",
     "text": [
      "Distribution of % problems mastered immediately\n",
      "69.000000 percent with likelihood over 50\n",
      "29.000000 percent with likelihood over 80\n",
      "73.000000 percent with likelihood under 20\n"
     ]
    }
   ],
   "source": [
    "# distribution of mastery  \n",
    "print('Histogram of Perc Stuck Problems Out of Total Problems:')\n",
    "stuck_with_problems = stuck[stuck['total_problems']>0]\n",
    "perc_never_stuck =(stuck_with_problems['never_stuck_problems'])/stuck_with_problems['total_problems']\n",
    "\n",
    "stuck_norm_fit = stats.norm.pdf( perc_never_stuck, np.mean(perc_never_stuck), np.std(perc_never_stuck))\n",
    "plt.plot(perc_never_stuck, stuck_norm_fit,'.', color = 'black')\n",
    "plt.hist(perc_never_stuck, density=True)\n",
    "plt.show()\n",
    "\n",
    "print('Distribution of % problems mastered immediately')\n",
    "print( '%f percent with likelihood over 50' % np.round(sum(perc_never_stuck>=0.5)*100/len(perc_never_stuck), decimals = 0))\n",
    "print( '%f percent with likelihood over 80' % np.round(sum(perc_never_stuck>=0.8)*100/len(perc_never_stuck), decimals = 0))\n",
    "print( '%f percent with likelihood under 20' % np.round(sum(perc_never_stuck<=0.8)*100/len(perc_never_stuck), decimals = 0))\n"
   ]
  },
  {
   "cell_type": "code",
   "execution_count": 157,
   "metadata": {},
   "outputs": [
    {
     "ename": "TypeError",
     "evalue": "not enough arguments for format string",
     "output_type": "error",
     "traceback": [
      "\u001b[0;31m---------------------------------------------------------------------------\u001b[0m",
      "\u001b[0;31mTypeError\u001b[0m                                 Traceback (most recent call last)",
      "\u001b[0;32m<ipython-input-157-40d0cb924344>\u001b[0m in \u001b[0;36m<module>\u001b[0;34m()\u001b[0m\n\u001b[0;32m----> 1\u001b[0;31m \u001b[0mprint\u001b[0m\u001b[0;34m(\u001b[0m \u001b[0;34m'%f perc over 50 [%]'\u001b[0m \u001b[0;34m%\u001b[0m \u001b[0mnp\u001b[0m\u001b[0;34m.\u001b[0m\u001b[0mround\u001b[0m\u001b[0;34m(\u001b[0m\u001b[0msum\u001b[0m\u001b[0;34m(\u001b[0m\u001b[0mperc_never_stuck\u001b[0m\u001b[0;34m>=\u001b[0m\u001b[0;36m0.5\u001b[0m\u001b[0;34m)\u001b[0m\u001b[0;34m*\u001b[0m\u001b[0;36m100\u001b[0m\u001b[0;34m/\u001b[0m\u001b[0mlen\u001b[0m\u001b[0;34m(\u001b[0m\u001b[0mperc_never_stuck\u001b[0m\u001b[0;34m)\u001b[0m\u001b[0;34m,\u001b[0m \u001b[0mdecimals\u001b[0m \u001b[0;34m=\u001b[0m \u001b[0;36m0\u001b[0m\u001b[0;34m)\u001b[0m\u001b[0;34m)\u001b[0m\u001b[0;34m\u001b[0m\u001b[0m\n\u001b[0m",
      "\u001b[0;31mTypeError\u001b[0m: not enough arguments for format string"
     ]
    }
   ],
   "source": []
  },
  {
   "cell_type": "code",
   "execution_count": 50,
   "metadata": {},
   "outputs": [
    {
     "name": "stdout",
     "output_type": "stream",
     "text": [
      "Histogram of Perc Unstuck Problems Out of Total Stuck:\n"
     ]
    },
    {
     "name": "stderr",
     "output_type": "stream",
     "text": [
      "/usr/local/lib/python3.4/dist-packages/matplotlib/axes/_axes.py:6571: UserWarning: The 'normed' kwarg is deprecated, and has been replaced by the 'density' kwarg.\n",
      "  warnings.warn(\"The 'normed' kwarg is deprecated, and has been \"\n"
     ]
    },
    {
     "data": {
      "image/png": "[encoded data removed]",
      "text/plain": [
       "<Figure size 432x288 with 1 Axes>"
      ]
     },
     "metadata": {
      "needs_background": "light"
     },
     "output_type": "display_data"
    },
    {
     "name": "stdout",
     "output_type": "stream",
     "text": [
      "Distribution % who unstuck from stuck problems \n",
      "25.07383101146551\n",
      "11.649574198008592\n",
      "42.13434575197106\n"
     ]
    }
   ],
   "source": [
    "plt.close()\n",
    "print('Histogram of Perc Unstuck Problems Out of Total Stuck:')\n",
    "unstuck_with_problems = stuck[(stuck['never_unstuck_problems']>0) |\n",
    "                           (stuck['unstuck_problems']>0)]\n",
    "perc_unstuck = unstuck_with_problems['unstuck_problems']/(unstuck_with_problems['never_unstuck_problems'] +\n",
    "                           unstuck_with_problems['unstuck_problems'])\n",
    "\n",
    "unstuck_norm_fit = stats.norm.pdf( perc_unstuck, np.mean(perc_unstuck), np.std(perc_unstuck))\n",
    "plt.plot(perc_unstuck, unstuck_norm_fit,'.', color = 'black')\n",
    "plt.hist(perc_unstuck, normed=True)\n",
    "plt.show()\n",
    "\n",
    "print('Distribution % who unstuck from stuck problems ')\n",
    "print( sum(perc_unstuck>0.5)*100/len(perc_unstuck)) # '%d unstuck at least 50% of their stuck skills' %\n",
    "print(sum(perc_unstuck>0.8)*100/len(perc_unstuck)) # '%d unstuck over 80% of stuck skills'\n",
    "print(sum(perc_unstuck<0.2)*100/len(perc_unstuck)) #  '%d never unstuck on 80% of skills'"
   ]
  },
  {
   "cell_type": "code",
   "execution_count": 49,
   "metadata": {},
   "outputs": [
    {
     "name": "stdout",
     "output_type": "stream",
     "text": [
      "Histogram of Perc Unstuck Problems Out of Total Attempted to Unstuck:\n"
     ]
    },
    {
     "name": "stderr",
     "output_type": "stream",
     "text": [
      "/usr/local/lib/python3.4/dist-packages/matplotlib/axes/_axes.py:6571: UserWarning: The 'normed' kwarg is deprecated, and has been replaced by the 'density' kwarg.\n",
      "  warnings.warn(\"The 'normed' kwarg is deprecated, and has been \"\n"
     ]
    },
    {
     "data": {
      "image/png": "[encoded data removed]",
      "text/plain": [
       "<Figure size 432x288 with 1 Axes>"
      ]
     },
     "metadata": {
      "needs_background": "light"
     },
     "output_type": "display_data"
    },
    {
     "name": "stdout",
     "output_type": "stream",
     "text": [
      "Distribution % who unstuck from stuck problems \n",
      "51.01400454374676\n",
      "27.788214262217135\n",
      "23.41183952818682\n"
     ]
    }
   ],
   "source": [
    "plt.close()\n",
    "print('Histogram of Perc Unstuck Problems Out of Total Attempted to Unstuck:')\n",
    "unstuck_with_problems = stuck[(stuck['reattempted_stuck_problems']>0)]\n",
    "perc_reattempted_unstuck = unstuck_with_problems['unstuck_problems']/(unstuck_with_problems['reattempted_stuck_problems'] )\n",
    "\n",
    "unstuck_norm_fit = stats.norm.pdf( perc_reattempted_unstuck, np.mean(perc_reattempted_unstuck), np.std(perc_reattempted_unstuck))\n",
    "plt.plot(perc_reattempted_unstuck, unstuck_norm_fit,'.', color = 'black')\n",
    "plt.hist(perc_reattempted_unstuck, normed=True)\n",
    "plt.show()\n",
    "\n",
    "print('Distribution % who unstuck from stuck problems ')\n",
    "print( sum(perc_reattempted_unstuck>0.5)*100/len(perc_reattempted_unstuck)) # '%d unstuck at least 50% of their stuck skills' %\n",
    "print(sum(perc_reattempted_unstuck>0.8)*100/len(perc_reattempted_unstuck)) # '%d unstuck over 80% of stuck skills'\n",
    "print(sum(perc_reattempted_unstuck<0.2)*100/len(perc_reattempted_unstuck)) #  '%d never unstuck on 80% of skills'"
   ]
  },
  {
   "cell_type": "code",
   "execution_count": 38,
   "metadata": {},
   "outputs": [
    {
     "name": "stdout",
     "output_type": "stream",
     "text": [
      "Histogram of Problems worked on to unstuck:\n"
     ]
    },
    {
     "name": "stderr",
     "output_type": "stream",
     "text": [
      "/usr/local/lib/python3.4/dist-packages/matplotlib/axes/_axes.py:6571: UserWarning: The 'normed' kwarg is deprecated, and has been replaced by the 'density' kwarg.\n",
      "  warnings.warn(\"The 'normed' kwarg is deprecated, and has been \"\n"
     ]
    },
    {
     "data": {
      "image/png": "[encoded data removed]",
      "text/plain": [
       "<Figure size 432x288 with 1 Axes>"
      ]
     },
     "metadata": {
      "needs_background": "light"
     },
     "output_type": "display_data"
    },
    {
     "name": "stdout",
     "output_type": "stream",
     "text": [
      "56.55955218300627\n",
      "68.10628874250104\n",
      "77.42409831869884\n",
      "17.315677282571084\n"
     ]
    }
   ],
   "source": [
    "plt.close()\n",
    "print('Histogram of Problems worked on to unstuck:')\n",
    "unstuck_problems = stuck[(stuck['never_unstuck_problems']>0)]\n",
    "num_unstuck_problems = unstuck_problems['unstuck_remediation_problems']/unstuck_problems['never_unstuck_problems']\n",
    "# cap to 100\n",
    "num_unstuck_problems[num_unstuck_problems>100] =100\n",
    "\n",
    "unstuck_problems_norm_fit = stats.norm.pdf( num_unstuck_problems, np.mean(num_unstuck_problems), np.std(num_unstuck_problems))\n",
    "plt.plot(num_unstuck_problems, unstuck_problems_norm_fit,'.', color = 'black')\n",
    "plt.hist(num_unstuck_problems, normed=True)\n",
    "plt.show()\n",
    "\n",
    "print( sum(num_unstuck_problems<2)*100/len(num_unstuck_problems)) # '%d work on less than 2 problems' %\n",
    "print( sum(num_unstuck_problems<5)*100/len(num_unstuck_problems)) # '%d work on less than 5 problems' %\n",
    "print( sum(num_unstuck_problems<10)*100/len(num_unstuck_problems)) # '%d work on less than 10 problems' %\n",
    "print( sum(num_unstuck_problems>15)*100/len(num_unstuck_problems)) # '%d work on less than 15 problems' %\n",
    "\n"
   ]
  },
  {
   "cell_type": "code",
   "execution_count": 144,
   "metadata": {},
   "outputs": [
    {
     "name": "stdout",
     "output_type": "stream",
     "text": [
      "Average # of problems worked on by % unstuck\n"
     ]
    },
    {
     "data": {
      "text/plain": [
       "<matplotlib.axes._subplots.AxesSubplot at 0x7f924f536a20>"
      ]
     },
     "execution_count": 144,
     "metadata": {},
     "output_type": "execute_result"
    },
    {
     "data": {
      "image/png": "[encoded data removed]",
      "text/plain": [
       "<Figure size 432x288 with 1 Axes>"
      ]
     },
     "metadata": {
      "needs_background": "light"
     },
     "output_type": "display_data"
    }
   ],
   "source": [
    "plt.close()\n",
    "# how does average number of problems  impact unstuck level \n",
    "print('Average # of problems worked on by % unstuck')\n",
    "# total_problems = stuck['total_problems']>0\n",
    "perc_unstuck_by_problems = stuck\n",
    "perc_unstuck_by_problems['round_perc_unstuck'] = np.round(stuck['perc_unstuck'], decimals = 1)\n",
    "perc_unstuck_by_problems.loc[perc_unstuck_by_problems.loc[:,'total_problems']>100,:]=100\n",
    "perc_unstuck_by_problems.boxplot(column = 'total_problems', by = 'round_perc_unstuck' )\n",
    "# perc_unstuck_by_problems = perc_unstuck_by_problems.loc[:,('round_perc_unstuck','total_problems')]\n",
    "# plt.plot(perc_unstuck_by_problems['round_perc_unstuck']*100\n",
    "#     , perc_unstuck_by_problems['total_problems'], color = 'black')\n",
    "# plt.show()"
   ]
  }
 ],
 "metadata": {
  "kernelspec": {
   "display_name": "Python 2",
   "language": "python",
   "name": "python2"
  },
  "language_info": {
   "codemirror_mode": {
    "name": "ipython",
    "version": 3
   },
   "file_extension": ".py",
   "mimetype": "text/x-python",
   "name": "python",
   "nbconvert_exporter": "python",
   "pygments_lexer": "ipython3",
   "version": "3.4.3"
  }
 },
 "nbformat": 4,
 "nbformat_minor": 2
}
