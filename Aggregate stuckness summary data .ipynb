{
 "cells": [
  {
   "cell_type": "code",
   "execution_count": 174,
   "metadata": {},
   "outputs": [],
   "source": [
    "import pandas as pd\n",
    "import scipy.stats as stats\n",
    "import numpy as np\n",
    "import matplotlib\n",
    "import matplotlib.pyplot as plt\n",
    "\n",
    "# For the stuckness summary by learner data \n",
    "# The current dataset being pulled is a subset who exhibited learning behavior \n",
    "# Out of the  total learners who worked on more than 1 exercise, \n",
    "# about 82% exhibited some signs of learning,\n",
    "# where an exercise had both correct and incorrect responses. Out of the 18%  remaining sessions,  \n",
    "# 15% mastered some exercises immediately and 12% never got unstuck out of some exercises. \n",
    "# Only 5% mastered all their exercises and 2% were stuck on all their exercises. \n",
    "\n",
    "stuck = pd.read_csv('~/cahl_output/summarize_stuckness_bylearner_problemtype.csv')\n"
   ]
  },
  {
   "cell_type": "code",
   "execution_count": 176,
   "metadata": {},
   "outputs": [
    {
     "data": {
      "text/html": [
       "<div>\n",
       "<style scoped>\n",
       "    .dataframe tbody tr th:only-of-type {\n",
       "        vertical-align: middle;\n",
       "    }\n",
       "\n",
       "    .dataframe tbody tr th {\n",
       "        vertical-align: top;\n",
       "    }\n",
       "\n",
       "    .dataframe thead th {\n",
       "        text-align: right;\n",
       "    }\n",
       "</style>\n",
       "<table border=\"1\" class=\"dataframe\">\n",
       "  <thead>\n",
       "    <tr style=\"text-align: right;\">\n",
       "      <th></th>\n",
       "      <th>sha_id</th>\n",
       "      <th>total_problems</th>\n",
       "      <th>never_stuck_problems</th>\n",
       "      <th>never_unstuck_problems</th>\n",
       "      <th>unstuck_problems</th>\n",
       "      <th>reattempted_stuck_problems</th>\n",
       "      <th>unstuck_different_exercise</th>\n",
       "      <th>unstuck_remediation_problems</th>\n",
       "      <th>unstuck_correct_remdiation_problems</th>\n",
       "      <th>unstuck_prereq_avail_problems</th>\n",
       "      <th>unstuck_is_prereq_match_problems</th>\n",
       "      <th>unstuck_is_topic_tree_avail_problems</th>\n",
       "      <th>unstuck_is_not_unit_match_problems</th>\n",
       "      <th>unstuck_is_not_lesson_match_problems</th>\n",
       "      <th>unstuck_topic_tree_avail_remediation_items</th>\n",
       "      <th>unstuck_unit_match_remediation_items</th>\n",
       "      <th>unstuck_lesson_match_remediation_items</th>\n",
       "      <th>perc_unstuck</th>\n",
       "    </tr>\n",
       "  </thead>\n",
       "  <tbody>\n",
       "    <tr>\n",
       "      <th>0</th>\n",
       "      <td>sha_id</td>\n",
       "      <td>0</td>\n",
       "      <td>0</td>\n",
       "      <td>0</td>\n",
       "      <td>0</td>\n",
       "      <td>0</td>\n",
       "      <td>0</td>\n",
       "      <td>0</td>\n",
       "      <td>0</td>\n",
       "      <td>0</td>\n",
       "      <td>0</td>\n",
       "      <td>0</td>\n",
       "      <td>0</td>\n",
       "      <td>0</td>\n",
       "      <td>0</td>\n",
       "      <td>0</td>\n",
       "      <td>0</td>\n",
       "      <td>NaN</td>\n",
       "    </tr>\n",
       "    <tr>\n",
       "      <th>1</th>\n",
       "      <td>0001R22gGbvLqg5+mSbv7kpiOjFTLE7eddHYSfaqMA8=</td>\n",
       "      <td>1</td>\n",
       "      <td>1</td>\n",
       "      <td>0</td>\n",
       "      <td>0</td>\n",
       "      <td>0</td>\n",
       "      <td>0</td>\n",
       "      <td>0</td>\n",
       "      <td>0</td>\n",
       "      <td>0</td>\n",
       "      <td>0</td>\n",
       "      <td>0</td>\n",
       "      <td>0</td>\n",
       "      <td>0</td>\n",
       "      <td>0</td>\n",
       "      <td>0</td>\n",
       "      <td>0</td>\n",
       "      <td>NaN</td>\n",
       "    </tr>\n",
       "    <tr>\n",
       "      <th>2</th>\n",
       "      <td>0002PRyVGO/PD9Tj3S7W79JCi0otKMSfCI3RGFv0GJo=</td>\n",
       "      <td>8</td>\n",
       "      <td>4</td>\n",
       "      <td>4</td>\n",
       "      <td>0</td>\n",
       "      <td>2</td>\n",
       "      <td>0</td>\n",
       "      <td>0</td>\n",
       "      <td>0</td>\n",
       "      <td>0</td>\n",
       "      <td>0</td>\n",
       "      <td>0</td>\n",
       "      <td>0</td>\n",
       "      <td>0</td>\n",
       "      <td>0</td>\n",
       "      <td>0</td>\n",
       "      <td>0</td>\n",
       "      <td>0.0</td>\n",
       "    </tr>\n",
       "    <tr>\n",
       "      <th>3</th>\n",
       "      <td>0005vOGB8+M9AXMwj/abTgxySeBzy2cazO6p1H8C/VM=</td>\n",
       "      <td>2</td>\n",
       "      <td>2</td>\n",
       "      <td>0</td>\n",
       "      <td>0</td>\n",
       "      <td>0</td>\n",
       "      <td>0</td>\n",
       "      <td>0</td>\n",
       "      <td>0</td>\n",
       "      <td>0</td>\n",
       "      <td>0</td>\n",
       "      <td>0</td>\n",
       "      <td>0</td>\n",
       "      <td>0</td>\n",
       "      <td>0</td>\n",
       "      <td>0</td>\n",
       "      <td>0</td>\n",
       "      <td>NaN</td>\n",
       "    </tr>\n",
       "    <tr>\n",
       "      <th>4</th>\n",
       "      <td>00068D7jsV0viktfuth2oNk8P8nSh04m70ODvozWAH0=</td>\n",
       "      <td>5</td>\n",
       "      <td>5</td>\n",
       "      <td>0</td>\n",
       "      <td>0</td>\n",
       "      <td>0</td>\n",
       "      <td>0</td>\n",
       "      <td>0</td>\n",
       "      <td>0</td>\n",
       "      <td>0</td>\n",
       "      <td>0</td>\n",
       "      <td>0</td>\n",
       "      <td>0</td>\n",
       "      <td>0</td>\n",
       "      <td>0</td>\n",
       "      <td>0</td>\n",
       "      <td>0</td>\n",
       "      <td>NaN</td>\n",
       "    </tr>\n",
       "  </tbody>\n",
       "</table>\n",
       "</div>"
      ],
      "text/plain": [
       "                                         sha_id  total_problems  \\\n",
       "0                                        sha_id               0   \n",
       "1  0001R22gGbvLqg5+mSbv7kpiOjFTLE7eddHYSfaqMA8=               1   \n",
       "2  0002PRyVGO/PD9Tj3S7W79JCi0otKMSfCI3RGFv0GJo=               8   \n",
       "3  0005vOGB8+M9AXMwj/abTgxySeBzy2cazO6p1H8C/VM=               2   \n",
       "4  00068D7jsV0viktfuth2oNk8P8nSh04m70ODvozWAH0=               5   \n",
       "\n",
       "   never_stuck_problems  never_unstuck_problems  unstuck_problems  \\\n",
       "0                     0                       0                 0   \n",
       "1                     1                       0                 0   \n",
       "2                     4                       4                 0   \n",
       "3                     2                       0                 0   \n",
       "4                     5                       0                 0   \n",
       "\n",
       "   reattempted_stuck_problems  unstuck_different_exercise  \\\n",
       "0                           0                           0   \n",
       "1                           0                           0   \n",
       "2                           2                           0   \n",
       "3                           0                           0   \n",
       "4                           0                           0   \n",
       "\n",
       "   unstuck_remediation_problems  unstuck_correct_remdiation_problems  \\\n",
       "0                             0                                    0   \n",
       "1                             0                                    0   \n",
       "2                             0                                    0   \n",
       "3                             0                                    0   \n",
       "4                             0                                    0   \n",
       "\n",
       "   unstuck_prereq_avail_problems  unstuck_is_prereq_match_problems  \\\n",
       "0                              0                                 0   \n",
       "1                              0                                 0   \n",
       "2                              0                                 0   \n",
       "3                              0                                 0   \n",
       "4                              0                                 0   \n",
       "\n",
       "   unstuck_is_topic_tree_avail_problems  unstuck_is_not_unit_match_problems  \\\n",
       "0                                     0                                   0   \n",
       "1                                     0                                   0   \n",
       "2                                     0                                   0   \n",
       "3                                     0                                   0   \n",
       "4                                     0                                   0   \n",
       "\n",
       "   unstuck_is_not_lesson_match_problems  \\\n",
       "0                                     0   \n",
       "1                                     0   \n",
       "2                                     0   \n",
       "3                                     0   \n",
       "4                                     0   \n",
       "\n",
       "   unstuck_topic_tree_avail_remediation_items  \\\n",
       "0                                           0   \n",
       "1                                           0   \n",
       "2                                           0   \n",
       "3                                           0   \n",
       "4                                           0   \n",
       "\n",
       "   unstuck_unit_match_remediation_items  \\\n",
       "0                                     0   \n",
       "1                                     0   \n",
       "2                                     0   \n",
       "3                                     0   \n",
       "4                                     0   \n",
       "\n",
       "   unstuck_lesson_match_remediation_items  perc_unstuck  \n",
       "0                                       0           NaN  \n",
       "1                                       0           NaN  \n",
       "2                                       0           0.0  \n",
       "3                                       0           NaN  \n",
       "4                                       0           NaN  "
      ]
     },
     "execution_count": 176,
     "metadata": {},
     "output_type": "execute_result"
    }
   ],
   "source": [
    "stuck['perc_unstuck'] = stuck['unstuck_problems']/(\n",
    "    stuck['never_unstuck_problems'] + stuck['unstuck_problems'])\n",
    "\n",
    "stuck.shape\n",
    "stuck.head()"
   ]
  },
  {
   "cell_type": "code",
   "execution_count": 235,
   "metadata": {},
   "outputs": [
    {
     "name": "stdout",
     "output_type": "stream",
     "text": [
      "Summary of Metrics:\n",
      "                                               metric total learners  \\\n",
      "0                                  01-total learners         5850161   \n",
      "1                                 02-tried a problems        5726004   \n",
      "2                  03-immediately mastered a problem         5162594   \n",
      "3                                   04-got stuck ever        5039702   \n",
      "4                                05-unable to unstuck        4530394   \n",
      "5                             06-attempted to unstuck        4149680   \n",
      "6                                  07-able to unstuck        3239288   \n",
      "7           08-unstuck exercise have prereq available        3142876   \n",
      "8       09-prereq for unstuck exercise matches prereq        1129282   \n",
      "9   10-unstuck remediation problems for unstuck ex...        3062036   \n",
      "10  11-unstuck remediation problems different exer...        1643564   \n",
      "11  12-unstuck remediation problems answered corre...        2951934   \n",
      "12      13-unstuck remediation exericse in topic tree        3062036   \n",
      "13  14-unstuck remediation at least one not in sam...         835812   \n",
      "14  15-unstuck remediation exercise at least one n...        1261189   \n",
      "15  16-unstuck remediation problems for exercises ...        3062036   \n",
      "16       17-unstuck remediation problems in same unit        3060502   \n",
      "17     18-unstuck remediation problems in same lesson        3054784   \n",
      "\n",
      "   total problems  \n",
      "0               -  \n",
      "1       110325498  \n",
      "2        77007723  \n",
      "3        80194575  \n",
      "4        44681141  \n",
      "5        45128817  \n",
      "6        35513434  \n",
      "7        34827551  \n",
      "8        25412029  \n",
      "9       284510348  \n",
      "10      217343098  \n",
      "11      181185290  \n",
      "12       34750036  \n",
      "13       25123112  \n",
      "14       26332981  \n",
      "15      284510348  \n",
      "16      205548426  \n",
      "17      142242044  \n"
     ]
    }
   ],
   "source": [
    "# Find stats for those who exhibited learning: i.e.,\n",
    "# How many learners never get stuck\n",
    "# How many learner \n",
    "# How many learners ever get stuck?\n",
    "\n",
    "\n",
    "\n",
    "output_metrics = {\n",
    "    '01-total learners ':{\n",
    "            'total learners': stuck['sha_id'].count(),\n",
    "            'total problems': '-'\n",
    "            },\n",
    "    '02-tried a problems':{\n",
    "            'total learners': sum(stuck['total_problems']>0),\n",
    "            'total problems': stuck['total_problems'].sum()\n",
    "            },\n",
    "    '03-immediately mastered a problem ':{\n",
    "            'total learners': sum(stuck['never_stuck_problems']>0),\n",
    "            'total problems': stuck['never_stuck_problems'].sum() \n",
    "            },\n",
    "    '04-got stuck ever':{\n",
    "            'total learners': sum((stuck['never_unstuck_problems']>0)|(stuck['unstuck_problems']>0)),\n",
    "            'total problems': stuck['never_unstuck_problems'].sum() + stuck['unstuck_problems'].sum() \n",
    "            },\n",
    "    '05-unable to unstuck':{\n",
    "            'total learners': sum(stuck['never_unstuck_problems']>0),\n",
    "            'total problems':  stuck['never_unstuck_problems'].sum()\n",
    "            },\n",
    "    '06-attempted to unstuck':{\n",
    "            'total learners':sum(stuck['reattempted_stuck_problems']>0),\n",
    "            'total problems': stuck['reattempted_stuck_problems'].sum()\n",
    "            },    \n",
    "    '07-able to unstuck':{\n",
    "            'total learners':sum(stuck['unstuck_problems']>0),\n",
    "            'total problems': stuck['unstuck_problems'].sum()\n",
    "            },    \n",
    "    '08-unstuck exercise have prereq available':{\n",
    "            'total learners':sum(stuck['unstuck_prereq_avail_problems']>0),\n",
    "            'total problems': stuck['unstuck_prereq_avail_problems'].sum()\n",
    "            },   \n",
    "    '09-prereq for unstuck exercise matches prereq':{\n",
    "            'total learners':sum(stuck['unstuck_is_prereq_match_problems']>0),\n",
    "            'total problems': stuck['unstuck_is_prereq_match_problems'].sum()\n",
    "            },\n",
    "    '10-unstuck remediation problems for unstuck exercise':{\n",
    "            'total learners':sum(stuck['unstuck_remediation_problems']>0),\n",
    "            'total problems': stuck['unstuck_remediation_problems'].sum()\n",
    "            },      \n",
    "    '11-unstuck remediation problems different exercise as stuck exercise':{\n",
    "            'total learners':sum(stuck['unstuck_different_exercise']>0),\n",
    "            'total problems': stuck['unstuck_different_exercise'].sum()\n",
    "            },  \n",
    "    '12-unstuck remediation problems answered correctly':{\n",
    "            'total learners':sum(stuck['unstuck_correct_remdiation_problems']>0),\n",
    "            'total problems': stuck['unstuck_correct_remdiation_problems'].sum()\n",
    "            },    \n",
    "    '13-unstuck remediation exericse in topic tree':{\n",
    "            'total learners':sum(stuck['unstuck_is_topic_tree_avail_problems']>0),\n",
    "            'total problems': stuck['unstuck_is_topic_tree_avail_problems'].sum()\n",
    "            },    \n",
    "    '14-unstuck remediation at least one not in same unit':{\n",
    "            'total learners':sum(stuck['unstuck_is_not_unit_match_problems']>0),\n",
    "            'total problems': stuck['unstuck_is_not_unit_match_problems'].sum()\n",
    "            },    \n",
    "    '15-unstuck remediation exercise at least one not in same lesson':{\n",
    "            'total learners':sum(stuck['unstuck_is_not_lesson_match_problems']>0),\n",
    "            'total problems': stuck['unstuck_is_not_lesson_match_problems'].sum()\n",
    "            },\n",
    "    '16-unstuck remediation problems for exercises in topic tree':{\n",
    "            'total learners':sum(stuck['unstuck_topic_tree_avail_remediation_items']>0),\n",
    "            'total problems': stuck['unstuck_topic_tree_avail_remediation_items'].sum()\n",
    "            },    \n",
    "    '17-unstuck remediation problems in same unit':{\n",
    "            'total learners':sum(stuck['unstuck_unit_match_remediation_items']>0),\n",
    "            'total problems': stuck['unstuck_unit_match_remediation_items'].sum()\n",
    "            },    \n",
    "    '18-unstuck remediation problems in same lesson':{\n",
    "            'total learners':sum(stuck['unstuck_lesson_match_remediation_items']>0),\n",
    "            'total problems': stuck['unstuck_lesson_match_remediation_items'].sum()\n",
    "            }  \n",
    "}\n",
    "\n",
    "output = pd.DataFrame(columns = ['metric','total learners','total problems'])\n",
    "\n",
    "for metric in sorted(output_metrics.keys()):\n",
    "    output = output.append({'metric': metric,\n",
    "                           'total learners': output_metrics[metric]['total learners'],\n",
    "                           'total problems': output_metrics[metric]['total problems']},\n",
    "                          ignore_index = True)\n",
    "\n",
    "print('Summary of Metrics:')\n",
    "print(output)\n",
    "output.to_csv('summary_of_metrics.csv')\n",
    "# stored here\n",
    "# https://docs.google.com/spreadsheets/d/12qtEK-M36oz_ZLam6KveuWQniH6YYoZkOiqA17x3tqA/edit#gid=0"
   ]
  },
  {
   "cell_type": "code",
   "execution_count": 239,
   "metadata": {},
   "outputs": [
    {
     "name": "stdout",
     "output_type": "stream",
     "text": [
      "8 avg problems worked on to unstuck\n",
      "4 avg problems worked on to unstuck if only work on same exercise\n",
      "8 avg problems worked on to unstuck if ever work on different exercise\n"
     ]
    },
    {
     "name": "stderr",
     "output_type": "stream",
     "text": [
      "/usr/local/lib/python3.4/dist-packages/ipykernel_launcher.py:23: UserWarning: Boolean Series key will be reindexed to match DataFrame index.\n",
      "/usr/local/lib/python3.4/dist-packages/ipykernel_launcher.py:25: UserWarning: Boolean Series key will be reindexed to match DataFrame index.\n"
     ]
    },
    {
     "name": "stdout",
     "output_type": "stream",
     "text": [
      "10 avg problems worked on to unstuck if work on diferent exercise same lesson\n"
     ]
    },
    {
     "name": "stderr",
     "output_type": "stream",
     "text": [
      "/usr/local/lib/python3.4/dist-packages/ipykernel_launcher.py:33: UserWarning: Boolean Series key will be reindexed to match DataFrame index.\n",
      "/usr/local/lib/python3.4/dist-packages/ipykernel_launcher.py:35: UserWarning: Boolean Series key will be reindexed to match DataFrame index.\n"
     ]
    },
    {
     "name": "stdout",
     "output_type": "stream",
     "text": [
      "20 avg problems worked on to unstuck if work on diferent lesson same unit\n",
      "7 avg problems worked on to unstuck if work on different unit\n"
     ]
    }
   ],
   "source": [
    "# For those learners who are remediating, and getting unstuck, \n",
    "# what is the average number of remediation problems \n",
    "\n",
    "# average 60 remediation problems \n",
    "avg_unstuck_remediation = stuck['unstuck_remediation_problems'].sum()/stuck['unstuck_problems'].sum()\n",
    "print('%d avg problems worked on to unstuck' % avg_unstuck_remediation)\n",
    "\n",
    "# if they only try out the same exercise\n",
    "# average 4 remediation problems \n",
    "avg_unstuck_remediation_same = stuck[stuck['unstuck_different_exercise']==0].unstuck_remediation_problems.sum()/stuck[\n",
    "    stuck['unstuck_different_exercise']==0].unstuck_problems.sum()\n",
    "print('%d avg problems worked on to unstuck if only work on same exercise' % avg_unstuck_remediation_same)\n",
    "# if they only try out different exercise (any exercise)\n",
    "# average 74 remediation problems \n",
    "avg_unstuck_remediation_diff = stuck[stuck['unstuck_different_exercise']>0].unstuck_remediation_problems.sum()/stuck[\n",
    "    stuck['unstuck_different_exercise']>0].unstuck_problems.sum()\n",
    "print('%d avg problems worked on to unstuck if ever work on different exercise' % avg_unstuck_remediation_diff)\n",
    "\n",
    "\n",
    "# if they try out different exercise but stay in same lesson \n",
    "# average 10 remediation problems \n",
    "avg_unstuck_remediation_diff_exercise = stuck[stuck['unstuck_different_exercise']>0][\n",
    "    stuck['unstuck_is_not_lesson_match_problems']==0\n",
    "     ].unstuck_remediation_problems.sum()/stuck[\n",
    "    stuck['unstuck_different_exercise']>0][stuck['unstuck_is_not_lesson_match_problems']==0\n",
    "  ].unstuck_problems.sum()\n",
    "print('%d avg problems worked on to unstuck if work on diferent exercise same lesson' % avg_unstuck_remediation_diff_exercise)\n",
    "\n",
    "\n",
    "# if they try out different lesson but stay in same unit \n",
    "# average 20 remediation problems \n",
    "avg_unstuck_remediation_diff_lesson = stuck[stuck['unstuck_is_not_lesson_match_problems']>0][\n",
    "    stuck['unstuck_is_not_unit_match_problems']==0\n",
    "     ].unstuck_remediation_problems.sum()/stuck[\n",
    "    stuck['unstuck_is_not_lesson_match_problems']>0][stuck['unstuck_is_not_unit_match_problems']==0\n",
    "  ].unstuck_problems.sum()\n",
    "print('%d avg problems worked on to unstuck if work on diferent lesson same unit' % avg_unstuck_remediation_diff_lesson)\n",
    "\n",
    "\n",
    "# if they try out different unit\n",
    "# average 95 remediation problems \n",
    "avg_unstuck_remediation_diff_unit =  stuck[\n",
    "        stuck['unstuck_is_not_unit_match_problems']>=1\n",
    "     ].unstuck_remediation_problems.sum()/stuck[\n",
    "            stuck['unstuck_is_not_unit_match_problems']>=1\n",
    "              ].unstuck_problems.sum()\n",
    "print('%d avg problems worked on to unstuck if work on different unit' % avg_unstuck_remediation_diff_unit)\n"
   ]
  },
  {
   "cell_type": "code",
   "execution_count": 233,
   "metadata": {},
   "outputs": [
    {
     "name": "stdout",
     "output_type": "stream",
     "text": [
      "8 avg problems worked on to unstuck\n"
     ]
    },
    {
     "name": "stderr",
     "output_type": "stream",
     "text": [
      "/usr/local/lib/python3.4/dist-packages/ipykernel_launcher.py:21: UserWarning: Boolean Series key will be reindexed to match DataFrame index.\n",
      "/usr/local/lib/python3.4/dist-packages/ipykernel_launcher.py:23: UserWarning: Boolean Series key will be reindexed to match DataFrame index.\n",
      "/usr/local/lib/python3.4/dist-packages/ipykernel_launcher.py:30: UserWarning: Boolean Series key will be reindexed to match DataFrame index.\n",
      "/usr/local/lib/python3.4/dist-packages/ipykernel_launcher.py:32: UserWarning: Boolean Series key will be reindexed to match DataFrame index.\n",
      "/usr/local/lib/python3.4/dist-packages/ipykernel_launcher.py:38: UserWarning: Boolean Series key will be reindexed to match DataFrame index.\n",
      "/usr/local/lib/python3.4/dist-packages/ipykernel_launcher.py:40: UserWarning: Boolean Series key will be reindexed to match DataFrame index.\n"
     ]
    },
    {
     "data": {
      "text/plain": [
       "0.8743071370486653"
      ]
     },
     "execution_count": 233,
     "metadata": {},
     "output_type": "execute_result"
    }
   ],
   "source": [
    "# For those learners who are remediating, and getting unstuck, \n",
    "# what is the average likelihood they pick the right prerequisite \n",
    "\n",
    "# average 60 remediation problems \n",
    "avg_unstuck_remediation = stuck['unstuck_remediation_problems'].sum()/stuck['unstuck_problems'].sum()\n",
    "print('%d avg problems worked on to unstuck' % avg_unstuck_remediation)\n",
    "\n",
    "# if they only try out the same exercise\n",
    "# average 1% prerequisite match\n",
    "stuck[stuck['unstuck_different_exercise']==0].unstuck_is_prereq_match_problems.sum()/stuck[\n",
    "    stuck['unstuck_different_exercise']==0].unstuck_prereq_avail_problems.sum()\n",
    "# if they only try out different exercise (any exercise)\n",
    "# average 28% prerequisite match\n",
    "stuck[stuck['unstuck_different_exercise']>0].unstuck_is_prereq_match_problems.sum()/stuck[\n",
    "    stuck['unstuck_different_exercise']>0].unstuck_prereq_avail_problems.sum()\n",
    "\n",
    "\n",
    "# # if they try out different exercise but stay in same lesson \n",
    "# # average 17% prerequisite match\n",
    "stuck[stuck['unstuck_different_exercise']>0][\n",
    "    stuck['unstuck_is_not_lesson_match_problems']==0\n",
    "     ].unstuck_is_prereq_match_problems.sum()/stuck[\n",
    "    stuck['unstuck_different_exercise']>0][stuck['unstuck_is_not_lesson_match_problems']==0\n",
    "  ].unstuck_prereq_avail_problems.sum()\n",
    "\n",
    "\n",
    "# # if they try out different lesson but stay in same unit \n",
    "# # average 24% prerequisite match\n",
    "stuck[stuck['unstuck_is_not_lesson_match_problems']>0][\n",
    "    stuck['unstuck_is_not_unit_match_problems']==0\n",
    "     ].unstuck_is_prereq_match_problems.sum()/stuck[\n",
    "    stuck['unstuck_is_not_lesson_match_problems']>0][stuck['unstuck_is_not_unit_match_problems']==0\n",
    "  ].unstuck_prereq_avail_problems.sum()\n",
    "\n",
    "# # if they try out different unit\n",
    "# # average 30% prerequisite match\n",
    "stuck[stuck['unstuck_is_not_lesson_match_problems']>0][\n",
    "    stuck['unstuck_is_not_unit_match_problems']>0\n",
    "     ].unstuck_is_prereq_match_problems.sum()/stuck[\n",
    "    stuck['unstuck_is_not_lesson_match_problems']>0][stuck['unstuck_is_not_unit_match_problems']>0\n",
    "  ].unstuck_prereq_avail_problems.sum()\n"
   ]
  },
  {
   "cell_type": "code",
   "execution_count": 227,
   "metadata": {},
   "outputs": [],
   "source": [
    "# function for plot \n",
    "\n",
    "def plot_histogram(plot_variable, label):\n",
    "    # plot histogram\n",
    "    print(label)\n",
    "    norm_fit = stats.norm.pdf( \n",
    "        plot_variable, np.mean(plot_variable), np.std(plot_variable)) \n",
    "    # plt.plot(plot_variable, norm_fit,'.', color = 'black')\n",
    "    weights = np.ones_like(plot_variable)/float(len(plot_variable))\n",
    "    plt.hist(plot_variable, 10, weights = weights)\n",
    "    plt.show()\n",
    "    \n",
    "    # label probabiity\n",
    "    print( '%f percent with likelihood over 50' % np.round(sum(plot_variable>=50)*100/len(plot_variable), decimals = 0))\n",
    "    print( '%f percent with likelihood over 80' % np.round(sum(plot_variable>=80)*100/len(plot_variable), decimals = 0))\n",
    "    print( '%f percent with likelihood under 20' % np.round(sum(plot_variable<=20)*100/len(plot_variable), decimals = 0))\n",
    "\n"
   ]
  },
  {
   "cell_type": "code",
   "execution_count": 228,
   "metadata": {
    "scrolled": true
   },
   "outputs": [
    {
     "name": "stdout",
     "output_type": "stream",
     "text": [
      "Distribution of % problems mastered immediately\n"
     ]
    },
    {
     "data": {
      "image/png": "[encoded data removed]",
      "text/plain": [
       "<Figure size 432x288 with 1 Axes>"
      ]
     },
     "metadata": {
      "needs_background": "light"
     },
     "output_type": "display_data"
    },
    {
     "name": "stdout",
     "output_type": "stream",
     "text": [
      "68.000000 percent with likelihood over 50\n",
      "26.000000 percent with likelihood over 80\n",
      "14.000000 percent with likelihood under 20\n"
     ]
    }
   ],
   "source": [
    "# distribution of mastery  \n",
    "stuck_with_problems = stuck[stuck['total_problems']>0]\n",
    "perc_never_stuck =(stuck_with_problems['never_stuck_problems']*100)/stuck_with_problems['total_problems']\n",
    "\n",
    "plot_histogram(perc_never_stuck, 'Distribution of % problems mastered immediately')"
   ]
  },
  {
   "cell_type": "code",
   "execution_count": 229,
   "metadata": {},
   "outputs": [
    {
     "name": "stdout",
     "output_type": "stream",
     "text": [
      "Histogram of Perc Unstuck Problems Out of Total Stuck:\n",
      "Distribution % who unstuck from stuck problems\n"
     ]
    },
    {
     "data": {
      "image/png": "[encoded data removed]",
      "text/plain": [
       "<Figure size 432x288 with 1 Axes>"
      ]
     },
     "metadata": {
      "needs_background": "light"
     },
     "output_type": "display_data"
    },
    {
     "name": "stdout",
     "output_type": "stream",
     "text": [
      "33.000000 percent with likelihood over 50\n",
      "12.000000 percent with likelihood over 80\n",
      "44.000000 percent with likelihood under 20\n"
     ]
    }
   ],
   "source": [
    "plt.close()\n",
    "print('Histogram of Perc Unstuck Problems Out of Total Stuck:')\n",
    "unstuck_with_problems = stuck.loc[(stuck['never_unstuck_problems']>0) |\n",
    "                           (stuck['unstuck_problems']>0),:]\n",
    "perc_unstuck = unstuck_with_problems['perc_unstuck']*100\n",
    "plot_histogram(perc_unstuck, 'Distribution % who unstuck from stuck problems')"
   ]
  },
  {
   "cell_type": "code",
   "execution_count": 230,
   "metadata": {},
   "outputs": [
    {
     "name": "stdout",
     "output_type": "stream",
     "text": [
      "Distribution % who unstuck out of total attempted to unstuck\n"
     ]
    },
    {
     "data": {
      "image/png": "[encoded data removed]",
      "text/plain": [
       "<Figure size 432x288 with 1 Axes>"
      ]
     },
     "metadata": {
      "needs_background": "light"
     },
     "output_type": "display_data"
    },
    {
     "name": "stdout",
     "output_type": "stream",
     "text": [
      "62.000000 percent with likelihood over 50\n",
      "29.000000 percent with likelihood over 80\n",
      "24.000000 percent with likelihood under 20\n"
     ]
    }
   ],
   "source": [
    "plt.close()\n",
    "unstuck_with_problems = stuck[(stuck['reattempted_stuck_problems']>0)]\n",
    "perc_reattempted_unstuck = unstuck_with_problems['unstuck_problems']*100/(unstuck_with_problems['reattempted_stuck_problems'] )\n",
    "plot_histogram(perc_reattempted_unstuck, 'Distribution % who unstuck out of total attempted to unstuck')\n"
   ]
  },
  {
   "cell_type": "code",
   "execution_count": 231,
   "metadata": {},
   "outputs": [
    {
     "name": "stdout",
     "output_type": "stream",
     "text": [
      "Distribution problems worked on to unstuck\n"
     ]
    },
    {
     "data": {
      "image/png": "[encoded data removed]",
      "text/plain": [
       "<Figure size 432x288 with 1 Axes>"
      ]
     },
     "metadata": {
      "needs_background": "light"
     },
     "output_type": "display_data"
    },
    {
     "name": "stdout",
     "output_type": "stream",
     "text": [
      "8.000000 percent with likelihood over 50\n",
      "4.000000 percent with likelihood over 80\n",
      "79.000000 percent with likelihood under 20\n"
     ]
    }
   ],
   "source": [
    "plt.close()\n",
    "unstuck_problems = stuck[(stuck['unstuck_problems']>0)]\n",
    "num_unstuck_problems = unstuck_problems['unstuck_remediation_problems']/unstuck_problems['unstuck_problems']\n",
    "num_unstuck_problems[num_unstuck_problems>100]= 100\n",
    "# cap to 100\n",
    "plot_histogram(num_unstuck_problems, 'Distribution problems worked on to unstuck')\n",
    "\n"
   ]
  },
  {
   "cell_type": "code",
   "execution_count": 266,
   "metadata": {},
   "outputs": [
    {
     "name": "stdout",
     "output_type": "stream",
     "text": [
      "    sha_id  total_problems  never_stuck_problems  never_unstuck_problems  \\\n",
      "28     100             100                   100                     100   \n",
      "29     100             100                   100                     100   \n",
      "40     100             100                   100                     100   \n",
      "112    100             100                   100                     100   \n",
      "126    100             100                   100                     100   \n",
      "\n",
      "     unstuck_problems  reattempted_stuck_problems  unstuck_different_exercise  \\\n",
      "28                100                         100                         100   \n",
      "29                100                         100                         100   \n",
      "40                100                         100                         100   \n",
      "112               100                         100                         100   \n",
      "126               100                         100                         100   \n",
      "\n",
      "     unstuck_remediation_problems  unstuck_correct_remdiation_problems  \\\n",
      "28                            100                                  100   \n",
      "29                            100                                  100   \n",
      "40                            100                                  100   \n",
      "112                           100                                  100   \n",
      "126                           100                                  100   \n",
      "\n",
      "     unstuck_prereq_avail_problems  unstuck_is_prereq_match_problems  \\\n",
      "28                             100                               100   \n",
      "29                             100                               100   \n",
      "40                             100                               100   \n",
      "112                            100                               100   \n",
      "126                            100                               100   \n",
      "\n",
      "     unstuck_is_topic_tree_avail_problems  unstuck_is_not_unit_match_problems  \\\n",
      "28                                    100                                 100   \n",
      "29                                    100                                 100   \n",
      "40                                    100                                 100   \n",
      "112                                   100                                 100   \n",
      "126                                   100                                 100   \n",
      "\n",
      "     unstuck_is_not_lesson_match_problems  \\\n",
      "28                                    100   \n",
      "29                                    100   \n",
      "40                                    100   \n",
      "112                                   100   \n",
      "126                                   100   \n",
      "\n",
      "     unstuck_topic_tree_avail_remediation_items  \\\n",
      "28                                          100   \n",
      "29                                          100   \n",
      "40                                          100   \n",
      "112                                         100   \n",
      "126                                         100   \n",
      "\n",
      "     unstuck_unit_match_remediation_items  \\\n",
      "28                                    100   \n",
      "29                                    100   \n",
      "40                                    100   \n",
      "112                                   100   \n",
      "126                                   100   \n",
      "\n",
      "     unstuck_lesson_match_remediation_items  perc_unstuck  round_perc_unstuck  \\\n",
      "28                                      100         100.0               100.0   \n",
      "29                                      100         100.0               100.0   \n",
      "40                                      100         100.0               100.0   \n",
      "112                                     100         100.0               100.0   \n",
      "126                                     100         100.0               100.0   \n",
      "\n",
      "     round_total_problems  \n",
      "28                    100  \n",
      "29                    100  \n",
      "40                    100  \n",
      "112                   100  \n",
      "126                   100  \n"
     ]
    },
    {
     "name": "stderr",
     "output_type": "stream",
     "text": [
      "/usr/local/lib/python3.4/dist-packages/ipykernel_launcher.py:14: SettingWithCopyWarning: \n",
      "A value is trying to be set on a copy of a slice from a DataFrame.\n",
      "Try using .loc[row_indexer,col_indexer] = value instead\n",
      "\n",
      "See the caveats in the documentation: http://pandas.pydata.org/pandas-docs/stable/indexing.html#indexing-view-versus-copy\n",
      "  \n"
     ]
    },
    {
     "data": {
      "text/plain": [
       "10000.0"
      ]
     },
     "execution_count": 266,
     "metadata": {},
     "output_type": "execute_result"
    },
    {
     "data": {
      "image/png": "[encoded data removed]",
      "text/plain": [
       "<Figure size 432x288 with 1 Axes>"
      ]
     },
     "metadata": {
      "needs_background": "light"
     },
     "output_type": "display_data"
    }
   ],
   "source": [
    "\n",
    "# Are learners who work on more problems just more likely to unstuck themselves? \n",
    "plt.close()\n",
    "# how does average number of problems  impact unstuck level \n",
    "print('Average # of problems worked on by % unstuck')\n",
    "# modify the new version without impact the original dataset \n",
    "perc_unstuck_by_problems = stuck[stuck['total_problems']>0,:].copy()\n",
    "perc_unstuck_by_problems['cap_total_problems'] = \n",
    "perc_unstuck_by_problems['perc_unstuck_100'] = perc_unstuck_by_problems['perc_unstuck'] *100\n",
    "perc_unstuck_by_problems.boxplot(column = ['perc_unstuck_100'], by = 'round_total_problems' )\n",
    "np.nanmax(perc_unstuck_by_problems['perc_unstuck_100'])\n",
    "# perc_unstuck_by_problems = perc_unstuck_by_problems.loc[:,('round_perc_unstuck','total_problems')]\n",
    "# plt.plot(perc_unstuck_by_problems['round_perc_unstuck']*100\n",
    "#     , perc_unstuck_by_problems['total_problems'], color = 'black')\n",
    "# plt.show()\n"
   ]
  }
 ],
 "metadata": {
  "kernelspec": {
   "display_name": "Python 2",
   "language": "python",
   "name": "python2"
  },
  "language_info": {
   "codemirror_mode": {
    "name": "ipython",
    "version": 3
   },
   "file_extension": ".py",
   "mimetype": "text/x-python",
   "name": "python",
   "nbconvert_exporter": "python",
   "pygments_lexer": "ipython3",
   "version": "3.4.3"
  }
 },
 "nbformat": 4,
 "nbformat_minor": 2
}
