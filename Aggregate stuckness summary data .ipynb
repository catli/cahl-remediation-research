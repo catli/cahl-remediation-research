{
 "cells": [
  {
   "cell_type": "code",
   "execution_count": 270,
   "metadata": {},
   "outputs": [],
   "source": [
    "import pandas as pd\n",
    "import scipy.stats as stats\n",
    "import numpy as np\n",
    "import matplotlib\n",
    "import matplotlib.pyplot as plt\n",
    "\n",
    "# For the stuckness summary by learner data \n",
    "# The current dataset being pulled is a subset who exhibited learning behavior \n",
    "# Out of the  total learners who worked on more than 1 exercise, \n",
    "# about 82% exhibited some signs of learning,\n",
    "# where an exercise had both correct and incorrect responses. Out of the 18%  remaining sessions,  \n",
    "# 15% mastered some exercises immediately and 12% never got unstuck out of some exercises. \n",
    "# Only 5% mastered all their exercises and 2% were stuck on all their exercises. \n",
    "\n",
    "stuck = pd.read_csv('~/cahl_output/summarize_stuckness_bysession_problemtype.csv')\n"
   ]
  },
  {
   "cell_type": "code",
   "execution_count": 271,
   "metadata": {},
   "outputs": [
    {
     "name": "stdout",
     "output_type": "stream",
     "text": [
      "0.3474949160216181\n",
      "0.11348897295659385\n"
     ]
    }
   ],
   "source": [
    "# how often are never unstuck remediation using prereq versus unstuck \n",
    "print(sum(stuck['stuck_prereq_match']>0)/sum(stuck['stuck_prereq_avail']>0))\n",
    "print(sum(stuck['unstuck_is_prereq_match_problems']>0)/sum(stuck['unstuck_prereq_avail_problems']>0))"
   ]
  },
  {
   "cell_type": "code",
   "execution_count": 272,
   "metadata": {},
   "outputs": [
    {
     "data": {
      "text/html": [
       "<div>\n",
       "<style scoped>\n",
       "    .dataframe tbody tr th:only-of-type {\n",
       "        vertical-align: middle;\n",
       "    }\n",
       "\n",
       "    .dataframe tbody tr th {\n",
       "        vertical-align: top;\n",
       "    }\n",
       "\n",
       "    .dataframe thead th {\n",
       "        text-align: right;\n",
       "    }\n",
       "</style>\n",
       "<table border=\"1\" class=\"dataframe\">\n",
       "  <thead>\n",
       "    <tr style=\"text-align: right;\">\n",
       "      <th></th>\n",
       "      <th>sha_id</th>\n",
       "      <th>total_problems</th>\n",
       "      <th>never_stuck_problems</th>\n",
       "      <th>never_unstuck_problems</th>\n",
       "      <th>unstuck_problems</th>\n",
       "      <th>reattempted_stuck_problems</th>\n",
       "      <th>unstuck_different_exercise</th>\n",
       "      <th>unstuck_remediation_problems</th>\n",
       "      <th>unstuck_correct_remdiation_problems</th>\n",
       "      <th>unstuck_prereq_avail_problems</th>\n",
       "      <th>unstuck_is_prereq_match_problems</th>\n",
       "      <th>unstuck_is_topic_tree_avail_problems</th>\n",
       "      <th>unstuck_is_not_unit_match_problems</th>\n",
       "      <th>unstuck_is_not_lesson_match_problems</th>\n",
       "      <th>unstuck_topic_tree_avail_remediation_items</th>\n",
       "      <th>unstuck_unit_match_remediation_items</th>\n",
       "      <th>unstuck_lesson_match_remediation_items</th>\n",
       "      <th>stuck_prereq_avail</th>\n",
       "      <th>stuck_prereq_match</th>\n",
       "      <th>perc_unstuck</th>\n",
       "    </tr>\n",
       "  </thead>\n",
       "  <tbody>\n",
       "    <tr>\n",
       "      <th>0</th>\n",
       "      <td>sha_id</td>\n",
       "      <td>0</td>\n",
       "      <td>0</td>\n",
       "      <td>0</td>\n",
       "      <td>0</td>\n",
       "      <td>0</td>\n",
       "      <td>0</td>\n",
       "      <td>0</td>\n",
       "      <td>0</td>\n",
       "      <td>0</td>\n",
       "      <td>0</td>\n",
       "      <td>0</td>\n",
       "      <td>0</td>\n",
       "      <td>0</td>\n",
       "      <td>0</td>\n",
       "      <td>0</td>\n",
       "      <td>0</td>\n",
       "      <td>0</td>\n",
       "      <td>0</td>\n",
       "      <td>NaN</td>\n",
       "    </tr>\n",
       "    <tr>\n",
       "      <th>1</th>\n",
       "      <td>0001R22gGbvLqg5+mSbv7kpiOjFTLE7eddHYSfaqMA8=20...</td>\n",
       "      <td>2</td>\n",
       "      <td>2</td>\n",
       "      <td>0</td>\n",
       "      <td>0</td>\n",
       "      <td>0</td>\n",
       "      <td>0</td>\n",
       "      <td>0</td>\n",
       "      <td>0</td>\n",
       "      <td>0</td>\n",
       "      <td>0</td>\n",
       "      <td>0</td>\n",
       "      <td>0</td>\n",
       "      <td>0</td>\n",
       "      <td>0</td>\n",
       "      <td>0</td>\n",
       "      <td>0</td>\n",
       "      <td>0</td>\n",
       "      <td>0</td>\n",
       "      <td>NaN</td>\n",
       "    </tr>\n",
       "    <tr>\n",
       "      <th>2</th>\n",
       "      <td>0002PRyVGO/PD9Tj3S7W79JCi0otKMSfCI3RGFv0GJo=20...</td>\n",
       "      <td>8</td>\n",
       "      <td>4</td>\n",
       "      <td>4</td>\n",
       "      <td>0</td>\n",
       "      <td>2</td>\n",
       "      <td>0</td>\n",
       "      <td>0</td>\n",
       "      <td>0</td>\n",
       "      <td>0</td>\n",
       "      <td>0</td>\n",
       "      <td>0</td>\n",
       "      <td>0</td>\n",
       "      <td>0</td>\n",
       "      <td>0</td>\n",
       "      <td>0</td>\n",
       "      <td>0</td>\n",
       "      <td>4</td>\n",
       "      <td>3</td>\n",
       "      <td>0.0</td>\n",
       "    </tr>\n",
       "    <tr>\n",
       "      <th>3</th>\n",
       "      <td>0005vOGB8+M9AXMwj/abTgxySeBzy2cazO6p1H8C/VM=20...</td>\n",
       "      <td>2</td>\n",
       "      <td>2</td>\n",
       "      <td>0</td>\n",
       "      <td>0</td>\n",
       "      <td>0</td>\n",
       "      <td>0</td>\n",
       "      <td>0</td>\n",
       "      <td>0</td>\n",
       "      <td>0</td>\n",
       "      <td>0</td>\n",
       "      <td>0</td>\n",
       "      <td>0</td>\n",
       "      <td>0</td>\n",
       "      <td>0</td>\n",
       "      <td>0</td>\n",
       "      <td>0</td>\n",
       "      <td>0</td>\n",
       "      <td>0</td>\n",
       "      <td>NaN</td>\n",
       "    </tr>\n",
       "    <tr>\n",
       "      <th>4</th>\n",
       "      <td>00068D7jsV0viktfuth2oNk8P8nSh04m70ODvozWAH0=20...</td>\n",
       "      <td>5</td>\n",
       "      <td>5</td>\n",
       "      <td>0</td>\n",
       "      <td>0</td>\n",
       "      <td>0</td>\n",
       "      <td>0</td>\n",
       "      <td>0</td>\n",
       "      <td>0</td>\n",
       "      <td>0</td>\n",
       "      <td>0</td>\n",
       "      <td>0</td>\n",
       "      <td>0</td>\n",
       "      <td>0</td>\n",
       "      <td>0</td>\n",
       "      <td>0</td>\n",
       "      <td>0</td>\n",
       "      <td>0</td>\n",
       "      <td>0</td>\n",
       "      <td>NaN</td>\n",
       "    </tr>\n",
       "  </tbody>\n",
       "</table>\n",
       "</div>"
      ],
      "text/plain": [
       "                                              sha_id  total_problems  \\\n",
       "0                                             sha_id               0   \n",
       "1  0001R22gGbvLqg5+mSbv7kpiOjFTLE7eddHYSfaqMA8=20...               2   \n",
       "2  0002PRyVGO/PD9Tj3S7W79JCi0otKMSfCI3RGFv0GJo=20...               8   \n",
       "3  0005vOGB8+M9AXMwj/abTgxySeBzy2cazO6p1H8C/VM=20...               2   \n",
       "4  00068D7jsV0viktfuth2oNk8P8nSh04m70ODvozWAH0=20...               5   \n",
       "\n",
       "   never_stuck_problems  never_unstuck_problems  unstuck_problems  \\\n",
       "0                     0                       0                 0   \n",
       "1                     2                       0                 0   \n",
       "2                     4                       4                 0   \n",
       "3                     2                       0                 0   \n",
       "4                     5                       0                 0   \n",
       "\n",
       "   reattempted_stuck_problems  unstuck_different_exercise  \\\n",
       "0                           0                           0   \n",
       "1                           0                           0   \n",
       "2                           2                           0   \n",
       "3                           0                           0   \n",
       "4                           0                           0   \n",
       "\n",
       "   unstuck_remediation_problems  unstuck_correct_remdiation_problems  \\\n",
       "0                             0                                    0   \n",
       "1                             0                                    0   \n",
       "2                             0                                    0   \n",
       "3                             0                                    0   \n",
       "4                             0                                    0   \n",
       "\n",
       "   unstuck_prereq_avail_problems  unstuck_is_prereq_match_problems  \\\n",
       "0                              0                                 0   \n",
       "1                              0                                 0   \n",
       "2                              0                                 0   \n",
       "3                              0                                 0   \n",
       "4                              0                                 0   \n",
       "\n",
       "   unstuck_is_topic_tree_avail_problems  unstuck_is_not_unit_match_problems  \\\n",
       "0                                     0                                   0   \n",
       "1                                     0                                   0   \n",
       "2                                     0                                   0   \n",
       "3                                     0                                   0   \n",
       "4                                     0                                   0   \n",
       "\n",
       "   unstuck_is_not_lesson_match_problems  \\\n",
       "0                                     0   \n",
       "1                                     0   \n",
       "2                                     0   \n",
       "3                                     0   \n",
       "4                                     0   \n",
       "\n",
       "   unstuck_topic_tree_avail_remediation_items  \\\n",
       "0                                           0   \n",
       "1                                           0   \n",
       "2                                           0   \n",
       "3                                           0   \n",
       "4                                           0   \n",
       "\n",
       "   unstuck_unit_match_remediation_items  \\\n",
       "0                                     0   \n",
       "1                                     0   \n",
       "2                                     0   \n",
       "3                                     0   \n",
       "4                                     0   \n",
       "\n",
       "   unstuck_lesson_match_remediation_items  stuck_prereq_avail  \\\n",
       "0                                       0                   0   \n",
       "1                                       0                   0   \n",
       "2                                       0                   4   \n",
       "3                                       0                   0   \n",
       "4                                       0                   0   \n",
       "\n",
       "   stuck_prereq_match  perc_unstuck  \n",
       "0                   0           NaN  \n",
       "1                   0           NaN  \n",
       "2                   3           0.0  \n",
       "3                   0           NaN  \n",
       "4                   0           NaN  "
      ]
     },
     "execution_count": 272,
     "metadata": {},
     "output_type": "execute_result"
    }
   ],
   "source": [
    "stuck['perc_unstuck'] = stuck['unstuck_problems']/(\n",
    "    stuck['never_unstuck_problems'] + stuck['unstuck_problems'])\n",
    "\n",
    "stuck.shape\n",
    "stuck.head()"
   ]
  },
  {
   "cell_type": "code",
   "execution_count": 273,
   "metadata": {},
   "outputs": [
    {
     "name": "stdout",
     "output_type": "stream",
     "text": [
      "Summary of Metrics:\n",
      "                                               metric total learners  \\\n",
      "0                                  01-total learners        22223353   \n",
      "1                                 02-tried a problems       21587162   \n",
      "2                  03-immediately mastered a problem        18238195   \n",
      "3                                   04-got stuck ever       18010708   \n",
      "4                                05-unable to unstuck       15055893   \n",
      "5                             06-attempted to unstuck       13601365   \n",
      "6                                  07-able to unstuck        9045640   \n",
      "7           08-unstuck exercise have prereq available        8646470   \n",
      "8       09-prereq for unstuck exercise matches prereq         981279   \n",
      "9   10-unstuck remediation problems for unstuck ex...        8289736   \n",
      "10  11-unstuck remediation problems different exer...        2118475   \n",
      "11  12-unstuck remediation problems answered corre...        7790682   \n",
      "12      13-unstuck remediation exericse in topic tree        8289736   \n",
      "13  14-unstuck remediation at least one not in sam...         760121   \n",
      "14  15-unstuck remediation exercise at least one n...        1406887   \n",
      "15  16-unstuck remediation problems for exercises ...        8289736   \n",
      "16       17-unstuck remediation problems in same unit        8272261   \n",
      "17     18-unstuck remediation problems in same lesson        8247374   \n",
      "\n",
      "   total problems  \n",
      "0               -  \n",
      "1       143123370  \n",
      "2        87267820  \n",
      "3        55855550  \n",
      "4        39481318  \n",
      "5        32437149  \n",
      "6        16374232  \n",
      "7        15438690  \n",
      "8         1376289  \n",
      "9       138049239  \n",
      "10       59050203  \n",
      "11       76435567  \n",
      "12       15049852  \n",
      "13        1071156  \n",
      "14        2108075  \n",
      "15      138049239  \n",
      "16      122959156  \n",
      "17      101646402  \n"
     ]
    }
   ],
   "source": [
    "# Find stats for those who exhibited learning: i.e.,\n",
    "# How many learners never get stuck\n",
    "# How many learner \n",
    "# How many learners ever get stuck?\n",
    "\n",
    "\n",
    "\n",
    "output_metrics = {\n",
    "    '01-total learners ':{\n",
    "            'total learners': stuck['sha_id'].count(),\n",
    "            'total problems': '-'\n",
    "            },\n",
    "    '02-tried a problems':{\n",
    "            'total learners': sum(stuck['total_problems']>0),\n",
    "            'total problems': stuck['total_problems'].sum()\n",
    "            },\n",
    "    '03-immediately mastered a problem ':{\n",
    "            'total learners': sum(stuck['never_stuck_problems']>0),\n",
    "            'total problems': stuck['never_stuck_problems'].sum() \n",
    "            },\n",
    "    '04-got stuck ever':{\n",
    "            'total learners': sum((stuck['never_unstuck_problems']>0)|(stuck['unstuck_problems']>0)),\n",
    "            'total problems': stuck['never_unstuck_problems'].sum() + stuck['unstuck_problems'].sum() \n",
    "            },\n",
    "    '05-unable to unstuck':{\n",
    "            'total learners': sum(stuck['never_unstuck_problems']>0),\n",
    "            'total problems':  stuck['never_unstuck_problems'].sum()\n",
    "            },\n",
    "    '06-attempted to unstuck':{\n",
    "            'total learners':sum(stuck['reattempted_stuck_problems']>0),\n",
    "            'total problems': stuck['reattempted_stuck_problems'].sum()\n",
    "            },    \n",
    "    '07-able to unstuck':{\n",
    "            'total learners':sum(stuck['unstuck_problems']>0),\n",
    "            'total problems': stuck['unstuck_problems'].sum()\n",
    "            },    \n",
    "    '08-unstuck exercise have prereq available':{\n",
    "            'total learners':sum(stuck['unstuck_prereq_avail_problems']>0),\n",
    "            'total problems': stuck['unstuck_prereq_avail_problems'].sum()\n",
    "            },   \n",
    "    '09-prereq for unstuck exercise matches prereq':{\n",
    "            'total learners':sum(stuck['unstuck_is_prereq_match_problems']>0),\n",
    "            'total problems': stuck['unstuck_is_prereq_match_problems'].sum()\n",
    "            },\n",
    "    '10-unstuck remediation problems for unstuck exercise':{\n",
    "            'total learners':sum(stuck['unstuck_remediation_problems']>0),\n",
    "            'total problems': stuck['unstuck_remediation_problems'].sum()\n",
    "            },      \n",
    "    '11-unstuck remediation problems different exercise as stuck exercise':{\n",
    "            'total learners':sum(stuck['unstuck_different_exercise']>0),\n",
    "            'total problems': stuck['unstuck_different_exercise'].sum()\n",
    "            },  \n",
    "    '12-unstuck remediation problems answered correctly':{\n",
    "            'total learners':sum(stuck['unstuck_correct_remdiation_problems']>0),\n",
    "            'total problems': stuck['unstuck_correct_remdiation_problems'].sum()\n",
    "            },    \n",
    "    '13-unstuck remediation exericse in topic tree':{\n",
    "            'total learners':sum(stuck['unstuck_is_topic_tree_avail_problems']>0),\n",
    "            'total problems': stuck['unstuck_is_topic_tree_avail_problems'].sum()\n",
    "            },    \n",
    "    '14-unstuck remediation at least one not in same unit':{\n",
    "            'total learners':sum(stuck['unstuck_is_not_unit_match_problems']>0),\n",
    "            'total problems': stuck['unstuck_is_not_unit_match_problems'].sum()\n",
    "            },    \n",
    "    '15-unstuck remediation exercise at least one not in same lesson':{\n",
    "            'total learners':sum(stuck['unstuck_is_not_lesson_match_problems']>0),\n",
    "            'total problems': stuck['unstuck_is_not_lesson_match_problems'].sum()\n",
    "            },\n",
    "    '16-unstuck remediation problems for exercises in topic tree':{\n",
    "            'total learners':sum(stuck['unstuck_topic_tree_avail_remediation_items']>0),\n",
    "            'total problems': stuck['unstuck_topic_tree_avail_remediation_items'].sum()\n",
    "            },    \n",
    "    '17-unstuck remediation problems in same unit':{\n",
    "            'total learners':sum(stuck['unstuck_unit_match_remediation_items']>0),\n",
    "            'total problems': stuck['unstuck_unit_match_remediation_items'].sum()\n",
    "            },    \n",
    "    '18-unstuck remediation problems in same lesson':{\n",
    "            'total learners':sum(stuck['unstuck_lesson_match_remediation_items']>0),\n",
    "            'total problems': stuck['unstuck_lesson_match_remediation_items'].sum()\n",
    "            }  \n",
    "}\n",
    "\n",
    "output = pd.DataFrame(columns = ['metric','total learners','total problems'])\n",
    "\n",
    "for metric in sorted(output_metrics.keys()):\n",
    "    output = output.append({'metric': metric,\n",
    "                           'total learners': output_metrics[metric]['total learners'],\n",
    "                           'total problems': output_metrics[metric]['total problems']},\n",
    "                          ignore_index = True)\n",
    "\n",
    "print('Summary of Metrics:')\n",
    "print(output)\n",
    "output.to_csv('summary_of_metrics.csv')\n",
    "# stored here\n",
    "# https://docs.google.com/spreadsheets/d/12qtEK-M36oz_ZLam6KveuWQniH6YYoZkOiqA17x3tqA/edit#gid=0"
   ]
  },
  {
   "cell_type": "code",
   "execution_count": 274,
   "metadata": {},
   "outputs": [
    {
     "name": "stdout",
     "output_type": "stream",
     "text": [
      "8 avg problems worked on to unstuck\n",
      "4 avg problems worked on to unstuck if only work on same exercise\n",
      "16 avg problems worked on to unstuck if ever work on different exercise\n"
     ]
    },
    {
     "name": "stderr",
     "output_type": "stream",
     "text": [
      "/usr/local/lib/python3.4/dist-packages/ipykernel_launcher.py:23: UserWarning: Boolean Series key will be reindexed to match DataFrame index.\n",
      "/usr/local/lib/python3.4/dist-packages/ipykernel_launcher.py:25: UserWarning: Boolean Series key will be reindexed to match DataFrame index.\n"
     ]
    },
    {
     "name": "stdout",
     "output_type": "stream",
     "text": [
      "11 avg problems worked on to unstuck if work on diferent exercise same lesson\n"
     ]
    },
    {
     "name": "stderr",
     "output_type": "stream",
     "text": [
      "/usr/local/lib/python3.4/dist-packages/ipykernel_launcher.py:33: UserWarning: Boolean Series key will be reindexed to match DataFrame index.\n",
      "/usr/local/lib/python3.4/dist-packages/ipykernel_launcher.py:35: UserWarning: Boolean Series key will be reindexed to match DataFrame index.\n"
     ]
    },
    {
     "name": "stdout",
     "output_type": "stream",
     "text": [
      "19 avg problems worked on to unstuck if work on diferent lesson same unit\n",
      "18 avg problems worked on to unstuck if work on different unit\n"
     ]
    }
   ],
   "source": [
    "# For those learners who are remediating, and getting unstuck, \n",
    "# what is the average number of remediation problems \n",
    "\n",
    "# average 60 remediation problems \n",
    "avg_unstuck_remediation = stuck['unstuck_remediation_problems'].sum()/stuck['unstuck_problems'].sum()\n",
    "print('%d avg problems worked on to unstuck' % avg_unstuck_remediation)\n",
    "\n",
    "# if they only try out the same exercise\n",
    "# average 4 remediation problems \n",
    "avg_unstuck_remediation_same = stuck[stuck['unstuck_different_exercise']==0].unstuck_remediation_problems.sum()/stuck[\n",
    "    stuck['unstuck_different_exercise']==0].unstuck_problems.sum()\n",
    "print('%d avg problems worked on to unstuck if only work on same exercise' % avg_unstuck_remediation_same)\n",
    "# if they only try out different exercise (any exercise)\n",
    "# average 74 remediation problems \n",
    "avg_unstuck_remediation_diff = stuck[stuck['unstuck_different_exercise']>0].unstuck_remediation_problems.sum()/stuck[\n",
    "    stuck['unstuck_different_exercise']>0].unstuck_problems.sum()\n",
    "print('%d avg problems worked on to unstuck if ever work on different exercise' % avg_unstuck_remediation_diff)\n",
    "\n",
    "\n",
    "# if they try out different exercise but stay in same lesson \n",
    "# average 10 remediation problems \n",
    "avg_unstuck_remediation_diff_exercise = stuck[stuck['unstuck_different_exercise']>0][\n",
    "    stuck['unstuck_is_not_lesson_match_problems']==0\n",
    "     ].unstuck_remediation_problems.sum()/stuck[\n",
    "    stuck['unstuck_different_exercise']>0][stuck['unstuck_is_not_lesson_match_problems']==0\n",
    "  ].unstuck_problems.sum()\n",
    "print('%d avg problems worked on to unstuck if work on diferent exercise same lesson' % avg_unstuck_remediation_diff_exercise)\n",
    "\n",
    "\n",
    "# if they try out different lesson but stay in same unit \n",
    "# average 20 remediation problems \n",
    "avg_unstuck_remediation_diff_lesson = stuck[stuck['unstuck_is_not_lesson_match_problems']>0][\n",
    "    stuck['unstuck_is_not_unit_match_problems']==0\n",
    "     ].unstuck_remediation_problems.sum()/stuck[\n",
    "    stuck['unstuck_is_not_lesson_match_problems']>0][stuck['unstuck_is_not_unit_match_problems']==0\n",
    "  ].unstuck_problems.sum()\n",
    "print('%d avg problems worked on to unstuck if work on diferent lesson same unit' % avg_unstuck_remediation_diff_lesson)\n",
    "\n",
    "\n",
    "# if they try out different unit\n",
    "# average 95 remediation problems \n",
    "avg_unstuck_remediation_diff_unit =  stuck[\n",
    "        stuck['unstuck_is_not_unit_match_problems']>=1\n",
    "     ].unstuck_remediation_problems.sum()/stuck[\n",
    "            stuck['unstuck_is_not_unit_match_problems']>=1\n",
    "              ].unstuck_problems.sum()\n",
    "print('%d avg problems worked on to unstuck if work on different unit' % avg_unstuck_remediation_diff_unit)\n"
   ]
  },
  {
   "cell_type": "code",
   "execution_count": 233,
   "metadata": {},
   "outputs": [
    {
     "name": "stdout",
     "output_type": "stream",
     "text": [
      "8 avg problems worked on to unstuck\n"
     ]
    },
    {
     "name": "stderr",
     "output_type": "stream",
     "text": [
      "/usr/local/lib/python3.4/dist-packages/ipykernel_launcher.py:21: UserWarning: Boolean Series key will be reindexed to match DataFrame index.\n",
      "/usr/local/lib/python3.4/dist-packages/ipykernel_launcher.py:23: UserWarning: Boolean Series key will be reindexed to match DataFrame index.\n",
      "/usr/local/lib/python3.4/dist-packages/ipykernel_launcher.py:30: UserWarning: Boolean Series key will be reindexed to match DataFrame index.\n",
      "/usr/local/lib/python3.4/dist-packages/ipykernel_launcher.py:32: UserWarning: Boolean Series key will be reindexed to match DataFrame index.\n",
      "/usr/local/lib/python3.4/dist-packages/ipykernel_launcher.py:38: UserWarning: Boolean Series key will be reindexed to match DataFrame index.\n",
      "/usr/local/lib/python3.4/dist-packages/ipykernel_launcher.py:40: UserWarning: Boolean Series key will be reindexed to match DataFrame index.\n"
     ]
    },
    {
     "data": {
      "text/plain": [
       "0.8743071370486653"
      ]
     },
     "execution_count": 233,
     "metadata": {},
     "output_type": "execute_result"
    }
   ],
   "source": [
    "# For those learners who are remediating, and getting unstuck, \n",
    "# what is the average likelihood they pick the right prerequisite \n",
    "\n",
    "# average 60 remediation problems \n",
    "avg_unstuck_remediation = stuck['unstuck_remediation_problems'].sum()/stuck['unstuck_problems'].sum()\n",
    "print('%d avg problems worked on to unstuck' % avg_unstuck_remediation)\n",
    "\n",
    "# if they only try out the same exercise\n",
    "# average 1% prerequisite match\n",
    "stuck[stuck['unstuck_different_exercise']==0].unstuck_is_prereq_match_problems.sum()/stuck[\n",
    "    stuck['unstuck_different_exercise']==0].unstuck_prereq_avail_problems.sum()\n",
    "# if they only try out different exercise (any exercise)\n",
    "# average 28% prerequisite match\n",
    "stuck[stuck['unstuck_different_exercise']>0].unstuck_is_prereq_match_problems.sum()/stuck[\n",
    "    stuck['unstuck_different_exercise']>0].unstuck_prereq_avail_problems.sum()\n",
    "\n",
    "\n",
    "# # if they try out different exercise but stay in same lesson \n",
    "# # average 17% prerequisite match\n",
    "stuck[stuck['unstuck_different_exercise']>0][\n",
    "    stuck['unstuck_is_not_lesson_match_problems']==0\n",
    "     ].unstuck_is_prereq_match_problems.sum()/stuck[\n",
    "    stuck['unstuck_different_exercise']>0][stuck['unstuck_is_not_lesson_match_problems']==0\n",
    "  ].unstuck_prereq_avail_problems.sum()\n",
    "\n",
    "\n",
    "# # if they try out different lesson but stay in same unit \n",
    "# # average 24% prerequisite match\n",
    "stuck[stuck['unstuck_is_not_lesson_match_problems']>0][\n",
    "    stuck['unstuck_is_not_unit_match_problems']==0\n",
    "     ].unstuck_is_prereq_match_problems.sum()/stuck[\n",
    "    stuck['unstuck_is_not_lesson_match_problems']>0][stuck['unstuck_is_not_unit_match_problems']==0\n",
    "  ].unstuck_prereq_avail_problems.sum()\n",
    "\n",
    "# # if they try out different unit\n",
    "# # average 30% prerequisite match\n",
    "stuck[stuck['unstuck_is_not_lesson_match_problems']>0][\n",
    "    stuck['unstuck_is_not_unit_match_problems']>0\n",
    "     ].unstuck_is_prereq_match_problems.sum()/stuck[\n",
    "    stuck['unstuck_is_not_lesson_match_problems']>0][stuck['unstuck_is_not_unit_match_problems']>0\n",
    "  ].unstuck_prereq_avail_problems.sum()\n"
   ]
  },
  {
   "cell_type": "code",
   "execution_count": 281,
   "metadata": {},
   "outputs": [],
   "source": [
    "# function for plot \n",
    "\n",
    "def plot_histogram(plot_variable, label):\n",
    "    # plot histogram\n",
    "    print(label)\n",
    "    print('%f percent overall average' % np.mean(plot_variable))\n",
    "    norm_fit = stats.norm.pdf( \n",
    "        plot_variable, np.mean(plot_variable), np.std(plot_variable)) \n",
    "    # plt.plot(plot_variable, norm_fit,'.', color = 'black')\n",
    "    weights = np.ones_like(plot_variable)/float(len(plot_variable))\n",
    "    plt.hist(plot_variable, 10, weights = weights)\n",
    "    plt.show()\n",
    "    \n",
    "    # label probabiity\n",
    "    print( '%f percent with likelihood over 50' % np.round(sum(plot_variable>=50)*100/len(plot_variable), decimals = 0))\n",
    "    print( '%f percent with likelihood over 80' % np.round(sum(plot_variable>=80)*100/len(plot_variable), decimals = 0))\n",
    "    print( '%f percent with likelihood under 20' % np.round(sum(plot_variable<=20)*100/len(plot_variable), decimals = 0))\n",
    "\n"
   ]
  },
  {
   "cell_type": "code",
   "execution_count": 279,
   "metadata": {
    "scrolled": true
   },
   "outputs": [
    {
     "name": "stdout",
     "output_type": "stream",
     "text": [
      "Distribution of % problems mastered immediately\n",
      "54.616404 overall average\n"
     ]
    },
    {
     "data": {
      "image/png": "[encoded data removed]",
      "text/plain": [
       "<Figure size 432x288 with 1 Axes>"
      ]
     },
     "metadata": {
      "needs_background": "light"
     },
     "output_type": "display_data"
    },
    {
     "name": "stdout",
     "output_type": "stream",
     "text": [
      "63.000000 percent with likelihood over 50\n",
      "28.000000 percent with likelihood over 80\n",
      "20.000000 percent with likelihood under 20\n"
     ]
    }
   ],
   "source": [
    "# distribution of mastery  \n",
    "stuck_with_problems = stuck[stuck['total_problems']>0]\n",
    "perc_never_stuck =(stuck_with_problems['never_stuck_problems']*100)/stuck_with_problems['total_problems']\n",
    "\n",
    "plot_histogram(perc_never_stuck, 'Distribution of % problems mastered immediately')"
   ]
  },
  {
   "cell_type": "code",
   "execution_count": 280,
   "metadata": {},
   "outputs": [
    {
     "name": "stdout",
     "output_type": "stream",
     "text": [
      "Histogram of Perc Unstuck Problems Out of Total Stuck:\n",
      "Distribution % who unstuck from stuck problems\n",
      "30.757831 overall average\n"
     ]
    },
    {
     "data": {
      "image/png": "[encoded data removed]",
      "text/plain": [
       "<Figure size 432x288 with 1 Axes>"
      ]
     },
     "metadata": {
      "needs_background": "light"
     },
     "output_type": "display_data"
    },
    {
     "name": "stdout",
     "output_type": "stream",
     "text": [
      "33.000000 percent with likelihood over 50\n",
      "17.000000 percent with likelihood over 80\n",
      "55.000000 percent with likelihood under 20\n"
     ]
    }
   ],
   "source": [
    "plt.close()\n",
    "print('Histogram of Perc Unstuck Problems Out of Total Stuck:')\n",
    "unstuck_with_problems = stuck.loc[(stuck['never_unstuck_problems']>0) |\n",
    "                           (stuck['unstuck_problems']>0),:]\n",
    "perc_unstuck = unstuck_with_problems['perc_unstuck']*100\n",
    "plot_histogram(perc_unstuck, 'Distribution % who unstuck from stuck problems')"
   ]
  },
  {
   "cell_type": "code",
   "execution_count": 282,
   "metadata": {},
   "outputs": [
    {
     "name": "stdout",
     "output_type": "stream",
     "text": [
      "Distribution % who unstuck out of total attempted to unstuck\n",
      "50.841696 percent overall average\n"
     ]
    },
    {
     "data": {
      "image/png": "[encoded data removed]",
      "text/plain": [
       "<Figure size 432x288 with 1 Axes>"
      ]
     },
     "metadata": {
      "needs_background": "light"
     },
     "output_type": "display_data"
    },
    {
     "name": "stdout",
     "output_type": "stream",
     "text": [
      "57.000000 percent with likelihood over 50\n",
      "37.000000 percent with likelihood over 80\n",
      "35.000000 percent with likelihood under 20\n"
     ]
    }
   ],
   "source": [
    "plt.close()\n",
    "unstuck_with_problems = stuck[(stuck['reattempted_stuck_problems']>0)]\n",
    "perc_reattempted_unstuck = unstuck_with_problems['unstuck_problems']*100/(unstuck_with_problems['reattempted_stuck_problems'] )\n",
    "plot_histogram(perc_reattempted_unstuck, 'Distribution % who unstuck out of total attempted to unstuck')\n"
   ]
  },
  {
   "cell_type": "code",
   "execution_count": 290,
   "metadata": {},
   "outputs": [
    {
     "name": "stdout",
     "output_type": "stream",
     "text": [
      "Distribution problems worked on to unstuck\n",
      "6.101188 percent overall average\n"
     ]
    },
    {
     "data": {
      "image/png": "[encoded data removed]",
      "text/plain": [
       "<Figure size 432x288 with 1 Axes>"
      ]
     },
     "metadata": {
      "needs_background": "light"
     },
     "output_type": "display_data"
    },
    {
     "name": "stdout",
     "output_type": "stream",
     "text": [
      "1.000000 percent with likelihood over 50\n",
      "0.000000 percent with likelihood over 80\n",
      "95.000000 percent with likelihood under 20\n"
     ]
    }
   ],
   "source": [
    "plt.close()\n",
    "unstuck_problems = stuck[(stuck['unstuck_problems']>0)].copy()\n",
    "num_unstuck_problems = unstuck_problems['unstuck_remediation_problems']/unstuck_problems['unstuck_problems']\n",
    "num_unstuck_problems[num_unstuck_problems>100] = 100\n",
    "# cap to 100\n",
    "plot_histogram(num_unstuck_problems, 'Distribution problems worked on to unstuck')\n"
   ]
  },
  {
   "cell_type": "code",
   "execution_count": 305,
   "metadata": {},
   "outputs": [
    {
     "name": "stdout",
     "output_type": "stream",
     "text": [
      "Average # of problems worked on by % unstuck\n"
     ]
    },
    {
     "data": {
      "image/png": "[encoded data removed]",
      "text/plain": [
       "<Figure size 432x288 with 1 Axes>"
      ]
     },
     "metadata": {
      "needs_background": "light"
     },
     "output_type": "display_data"
    }
   ],
   "source": [
    "\n",
    "# Are learners who work on more problems just more likely to unstuck themselves? \n",
    "plt.close()\n",
    "# how does average number of problems  impact unstuck level \n",
    "print('Average # of problems worked on by % unstuck')\n",
    "# modify the new version without impact the original dataset \n",
    "perc_unstuck_by_problems = stuck.loc[stuck['total_problems']>0,:].copy()\n",
    "perc_unstuck_by_problems['perc_unstuck_100'] = perc_unstuck_by_problems['perc_unstuck'] *100\n",
    "perc_unstuck_by_problems.loc[\n",
    "    perc_unstuck_by_problems['total_problems']>=150,'total_problems']=150\n",
    "perc_unstuck_by_problems['round_total_problems'] = np.round( perc_unstuck_by_problems[\n",
    "    'total_problems'],decimals=-1)\n",
    "\n",
    "perc_unstuck_by_problems.boxplot(column = ['perc_unstuck_100'], by = 'round_total_problems' )\n",
    "plt.show()\n"
   ]
  }
 ],
 "metadata": {
  "kernelspec": {
   "display_name": "Python 2",
   "language": "python",
   "name": "python2"
  },
  "language_info": {
   "codemirror_mode": {
    "name": "ipython",
    "version": 3
   },
   "file_extension": ".py",
   "mimetype": "text/x-python",
   "name": "python",
   "nbconvert_exporter": "python",
   "pygments_lexer": "ipython3",
   "version": "3.4.3"
  }
 },
 "nbformat": 4,
 "nbformat_minor": 2
}
